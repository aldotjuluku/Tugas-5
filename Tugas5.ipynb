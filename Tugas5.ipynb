{
 "cells": [
  {
   "cell_type": "markdown",
   "metadata": {},
   "source": [
    "# PRESENTASI ANALISIS DATA SURVEY\n",
    "####   Glandy Hizkia Arvenar Mundung\n",
    "####   19101106054\n",
    "####   Sistem Informasi B\n",
    "####   Kelompok 8\n"
   ]
  },
  {
   "cell_type": "markdown",
   "metadata": {},
   "source": [
    "### Sebelum menganalisis data survey, Pertanyaan - pertanyaan di dalam data diubah menjadi variabel untuk mempermudah pengolahan data. Selanjutnya Scoring dilakukan sesuai jawaban dari responden."
   ]
  },
  {
   "cell_type": "code",
   "execution_count": 5,
   "metadata": {},
   "outputs": [
    {
     "name": "stdout",
     "output_type": "stream",
     "text": [
      "Q1  = Seberapa sering anda menggunakan bahasa pemrograman C?\n",
      "Q2  = Seberapa tahukah anda tentang bahasa permograman Java?\n",
      "Q3  = Pernahkah anda membuat program menggunakan bahasa pemrograman Python?\n",
      "Q4  = Seberapa tahukah anda tentang Pemrograman Interface (API)\n",
      "Q5  = Seberapa tahukah anda tentang Pemrograman Berorientasi Objek (OOP)?\n",
      "Q6  = Seberapa sering anda menggunakan programming software bajakan?\n",
      "Q7  = Seberapa perlunya dokumen manual/tutorial ketika membuat program?\n",
      "Q8  = Pernakah anda melakukan trial dan error atau mengembangkan program yang dibuat orang lain?\n",
      "Q9  = Seberapa seringkah anda menggunakan Extension saat membuat program?\n",
      "Q10 = Seberapa sering anda mengelola (menginstal,menghapus,menonaktifkan instalasi) Extension anda?\n",
      "Q11 = Apakah anda sering menggunakan Extension berbayar?\n",
      "Q12 = Apakah anda sering menggunakan Auto Indent Extension\n"
     ]
    }
   ],
   "source": [
    "# PERTANYAAN DIUBAH MENJADI VARIABEL UNTUK MEMPERMUDAH PENGOLAHAN DATA"
   ]
  },
  {
   "cell_type": "code",
   "execution_count": 3,
   "metadata": {},
   "outputs": [
    {
     "data": {
      "text/html": [
       "<div>\n",
       "<style scoped>\n",
       "    .dataframe tbody tr th:only-of-type {\n",
       "        vertical-align: middle;\n",
       "    }\n",
       "\n",
       "    .dataframe tbody tr th {\n",
       "        vertical-align: top;\n",
       "    }\n",
       "\n",
       "    .dataframe thead th {\n",
       "        text-align: right;\n",
       "    }\n",
       "</style>\n",
       "<table border=\"1\" class=\"dataframe\">\n",
       "  <thead>\n",
       "    <tr style=\"text-align: right;\">\n",
       "      <th></th>\n",
       "      <th>Kelompok 8</th>\n",
       "      <th>Sangat Sering</th>\n",
       "      <th>Sering</th>\n",
       "      <th>Jarang</th>\n",
       "      <th>Hanya Sekali</th>\n",
       "      <th>Tidak Sama Sekali</th>\n",
       "      <th>Sangat Tahu</th>\n",
       "      <th>Tahu</th>\n",
       "      <th>Ragu-Ragu</th>\n",
       "      <th>Kurang Tahu</th>\n",
       "      <th>Sangat Dibutuhkan</th>\n",
       "      <th>Dibutuhkan</th>\n",
       "      <th>Kurang Dibutukan</th>\n",
       "    </tr>\n",
       "  </thead>\n",
       "  <tbody>\n",
       "    <tr>\n",
       "      <th>0</th>\n",
       "      <td>Q1</td>\n",
       "      <td>5</td>\n",
       "      <td>4</td>\n",
       "      <td>3</td>\n",
       "      <td>2</td>\n",
       "      <td>1</td>\n",
       "      <td>-</td>\n",
       "      <td>-</td>\n",
       "      <td>-</td>\n",
       "      <td>-</td>\n",
       "      <td>-</td>\n",
       "      <td>-</td>\n",
       "      <td>-</td>\n",
       "    </tr>\n",
       "    <tr>\n",
       "      <th>1</th>\n",
       "      <td>Q2</td>\n",
       "      <td>-</td>\n",
       "      <td>-</td>\n",
       "      <td>-</td>\n",
       "      <td>-</td>\n",
       "      <td>1</td>\n",
       "      <td>5</td>\n",
       "      <td>4</td>\n",
       "      <td>3</td>\n",
       "      <td>2</td>\n",
       "      <td>-</td>\n",
       "      <td>-</td>\n",
       "      <td>-</td>\n",
       "    </tr>\n",
       "    <tr>\n",
       "      <th>2</th>\n",
       "      <td>Q3</td>\n",
       "      <td>5</td>\n",
       "      <td>4</td>\n",
       "      <td>3</td>\n",
       "      <td>2</td>\n",
       "      <td>1</td>\n",
       "      <td>-</td>\n",
       "      <td>-</td>\n",
       "      <td>-</td>\n",
       "      <td>-</td>\n",
       "      <td>-</td>\n",
       "      <td>-</td>\n",
       "      <td>-</td>\n",
       "    </tr>\n",
       "    <tr>\n",
       "      <th>3</th>\n",
       "      <td>Q4</td>\n",
       "      <td>-</td>\n",
       "      <td>-</td>\n",
       "      <td>-</td>\n",
       "      <td>-</td>\n",
       "      <td>1</td>\n",
       "      <td>5</td>\n",
       "      <td>4</td>\n",
       "      <td>3</td>\n",
       "      <td>2</td>\n",
       "      <td>-</td>\n",
       "      <td>-</td>\n",
       "      <td>-</td>\n",
       "    </tr>\n",
       "    <tr>\n",
       "      <th>4</th>\n",
       "      <td>Q5</td>\n",
       "      <td>-</td>\n",
       "      <td>-</td>\n",
       "      <td>-</td>\n",
       "      <td>-</td>\n",
       "      <td>1</td>\n",
       "      <td>5</td>\n",
       "      <td>4</td>\n",
       "      <td>3</td>\n",
       "      <td>2</td>\n",
       "      <td>-</td>\n",
       "      <td>-</td>\n",
       "      <td>-</td>\n",
       "    </tr>\n",
       "    <tr>\n",
       "      <th>5</th>\n",
       "      <td>Q6</td>\n",
       "      <td>1</td>\n",
       "      <td>2</td>\n",
       "      <td>3</td>\n",
       "      <td>4</td>\n",
       "      <td>5</td>\n",
       "      <td>-</td>\n",
       "      <td>-</td>\n",
       "      <td>-</td>\n",
       "      <td>-</td>\n",
       "      <td>-</td>\n",
       "      <td>-</td>\n",
       "      <td>-</td>\n",
       "    </tr>\n",
       "    <tr>\n",
       "      <th>6</th>\n",
       "      <td>Q7</td>\n",
       "      <td>-</td>\n",
       "      <td>-</td>\n",
       "      <td>-</td>\n",
       "      <td>-</td>\n",
       "      <td>1</td>\n",
       "      <td>-</td>\n",
       "      <td>-</td>\n",
       "      <td>3</td>\n",
       "      <td>-</td>\n",
       "      <td>5</td>\n",
       "      <td>4</td>\n",
       "      <td>2</td>\n",
       "    </tr>\n",
       "    <tr>\n",
       "      <th>7</th>\n",
       "      <td>Q8</td>\n",
       "      <td>5</td>\n",
       "      <td>4</td>\n",
       "      <td>3</td>\n",
       "      <td>2</td>\n",
       "      <td>1</td>\n",
       "      <td>-</td>\n",
       "      <td>-</td>\n",
       "      <td>-</td>\n",
       "      <td>-</td>\n",
       "      <td>-</td>\n",
       "      <td>-</td>\n",
       "      <td>-</td>\n",
       "    </tr>\n",
       "    <tr>\n",
       "      <th>8</th>\n",
       "      <td>Q9</td>\n",
       "      <td>5</td>\n",
       "      <td>4</td>\n",
       "      <td>3</td>\n",
       "      <td>2</td>\n",
       "      <td>1</td>\n",
       "      <td>-</td>\n",
       "      <td>-</td>\n",
       "      <td>-</td>\n",
       "      <td>-</td>\n",
       "      <td>-</td>\n",
       "      <td>-</td>\n",
       "      <td>-</td>\n",
       "    </tr>\n",
       "    <tr>\n",
       "      <th>9</th>\n",
       "      <td>Q10</td>\n",
       "      <td>5</td>\n",
       "      <td>4</td>\n",
       "      <td>3</td>\n",
       "      <td>2</td>\n",
       "      <td>1</td>\n",
       "      <td>-</td>\n",
       "      <td>-</td>\n",
       "      <td>-</td>\n",
       "      <td>-</td>\n",
       "      <td>-</td>\n",
       "      <td>-</td>\n",
       "      <td>-</td>\n",
       "    </tr>\n",
       "    <tr>\n",
       "      <th>10</th>\n",
       "      <td>Q11</td>\n",
       "      <td>5</td>\n",
       "      <td>4</td>\n",
       "      <td>3</td>\n",
       "      <td>2</td>\n",
       "      <td>1</td>\n",
       "      <td>-</td>\n",
       "      <td>-</td>\n",
       "      <td>-</td>\n",
       "      <td>-</td>\n",
       "      <td>-</td>\n",
       "      <td>-</td>\n",
       "      <td>-</td>\n",
       "    </tr>\n",
       "    <tr>\n",
       "      <th>11</th>\n",
       "      <td>Q12</td>\n",
       "      <td>5</td>\n",
       "      <td>4</td>\n",
       "      <td>3</td>\n",
       "      <td>2</td>\n",
       "      <td>1</td>\n",
       "      <td>-</td>\n",
       "      <td>-</td>\n",
       "      <td>-</td>\n",
       "      <td>-</td>\n",
       "      <td>-</td>\n",
       "      <td>-</td>\n",
       "      <td>-</td>\n",
       "    </tr>\n",
       "  </tbody>\n",
       "</table>\n",
       "</div>"
      ],
      "text/plain": [
       "   Kelompok 8 Sangat Sering Sering Jarang Hanya Sekali  Tidak Sama Sekali  \\\n",
       "0          Q1             5      4      3            2                  1   \n",
       "1          Q2             -      -      -            -                  1   \n",
       "2          Q3             5      4      3            2                  1   \n",
       "3          Q4             -      -      -            -                  1   \n",
       "4          Q5             -      -      -            -                  1   \n",
       "5          Q6             1      2      3            4                  5   \n",
       "6          Q7             -      -      -            -                  1   \n",
       "7          Q8             5      4      3            2                  1   \n",
       "8          Q9             5      4      3            2                  1   \n",
       "9         Q10             5      4      3            2                  1   \n",
       "10        Q11             5      4      3            2                  1   \n",
       "11        Q12             5      4      3            2                  1   \n",
       "\n",
       "   Sangat Tahu Tahu Ragu-Ragu Kurang Tahu Sangat Dibutuhkan Dibutuhkan  \\\n",
       "0            -    -         -           -                 -          -   \n",
       "1            5    4         3           2                 -          -   \n",
       "2            -    -         -           -                 -          -   \n",
       "3            5    4         3           2                 -          -   \n",
       "4            5    4         3           2                 -          -   \n",
       "5            -    -         -           -                 -          -   \n",
       "6            -    -         3           -                 5          4   \n",
       "7            -    -         -           -                 -          -   \n",
       "8            -    -         -           -                 -          -   \n",
       "9            -    -         -           -                 -          -   \n",
       "10           -    -         -           -                 -          -   \n",
       "11           -    -         -           -                 -          -   \n",
       "\n",
       "   Kurang Dibutukan  \n",
       "0                 -  \n",
       "1                 -  \n",
       "2                 -  \n",
       "3                 -  \n",
       "4                 -  \n",
       "5                 -  \n",
       "6                 2  \n",
       "7                 -  \n",
       "8                 -  \n",
       "9                 -  \n",
       "10                -  \n",
       "11                -  "
      ]
     },
     "execution_count": 3,
     "metadata": {},
     "output_type": "execute_result"
    }
   ],
   "source": [
    "# SCORING"
   ]
  },
  {
   "cell_type": "markdown",
   "metadata": {},
   "source": [
    "---"
   ]
  },
  {
   "cell_type": "markdown",
   "metadata": {},
   "source": [
    "#  1. *EXPLORATORY DATA ANALYSIS*"
   ]
  },
  {
   "cell_type": "markdown",
   "metadata": {},
   "source": [
    "### Setelah selesai melakukan Scoring pada data survey, selanjutnya yaitu melakukan analisa terhadap data dengan pendekatan Exploratory Data Analysis."
   ]
  },
  {
   "cell_type": "markdown",
   "metadata": {},
   "source": [
    "## 1.1. INFO DATA"
   ]
  },
  {
   "cell_type": "code",
   "execution_count": 6,
   "metadata": {},
   "outputs": [
    {
     "name": "stdout",
     "output_type": "stream",
     "text": [
      "<class 'pandas.core.frame.DataFrame'>\n",
      "RangeIndex: 500 entries, 0 to 499\n",
      "Data columns (total 12 columns):\n",
      " #   Column  Non-Null Count  Dtype\n",
      "---  ------  --------------  -----\n",
      " 0   Q1      500 non-null    int64\n",
      " 1   Q2      500 non-null    int64\n",
      " 2   Q3      500 non-null    int64\n",
      " 3   Q4      500 non-null    int64\n",
      " 4   Q5      500 non-null    int64\n",
      " 5   Q6      500 non-null    int64\n",
      " 6   Q7      500 non-null    int64\n",
      " 7   Q8      500 non-null    int64\n",
      " 8   Q9      500 non-null    int64\n",
      " 9   Q10     500 non-null    int64\n",
      " 10  Q11     500 non-null    int64\n",
      " 11  Q12     500 non-null    int64\n",
      "dtypes: int64(12)\n",
      "memory usage: 47.0 KB\n"
     ]
    }
   ],
   "source": [
    "# INFO LEBIH LANJUT DARI DATA SURVEY"
   ]
  },
  {
   "cell_type": "markdown",
   "metadata": {},
   "source": [
    "##### Pada output diatas ditunjukkan jumlah dan tipe data yang tertampung dalam tabel tersebut seperti gambar di atas."
   ]
  },
  {
   "cell_type": "markdown",
   "metadata": {},
   "source": [
    "#### Data yang akan diolah kali ini dibuat di Microsoft Excel. Validasi dapat dilakukan untuk memastikan bahwa csv file yang diimport telah sesuai dengan mencetak beberapa data awal yang berada di dalam tabel dan untuk mendapatkan beberapa data di akhir tabel. "
   ]
  },
  {
   "cell_type": "markdown",
   "metadata": {},
   "source": [
    "## 1.2. DATA AWAL SURVEY"
   ]
  },
  {
   "cell_type": "code",
   "execution_count": 7,
   "metadata": {},
   "outputs": [
    {
     "data": {
      "text/html": [
       "<div>\n",
       "<style scoped>\n",
       "    .dataframe tbody tr th:only-of-type {\n",
       "        vertical-align: middle;\n",
       "    }\n",
       "\n",
       "    .dataframe tbody tr th {\n",
       "        vertical-align: top;\n",
       "    }\n",
       "\n",
       "    .dataframe thead th {\n",
       "        text-align: right;\n",
       "    }\n",
       "</style>\n",
       "<table border=\"1\" class=\"dataframe\">\n",
       "  <thead>\n",
       "    <tr style=\"text-align: right;\">\n",
       "      <th></th>\n",
       "      <th>Q1</th>\n",
       "      <th>Q2</th>\n",
       "      <th>Q3</th>\n",
       "      <th>Q4</th>\n",
       "      <th>Q5</th>\n",
       "      <th>Q6</th>\n",
       "      <th>Q7</th>\n",
       "      <th>Q8</th>\n",
       "      <th>Q9</th>\n",
       "      <th>Q10</th>\n",
       "      <th>Q11</th>\n",
       "      <th>Q12</th>\n",
       "    </tr>\n",
       "  </thead>\n",
       "  <tbody>\n",
       "    <tr>\n",
       "      <th>0</th>\n",
       "      <td>3</td>\n",
       "      <td>2</td>\n",
       "      <td>2</td>\n",
       "      <td>1</td>\n",
       "      <td>1</td>\n",
       "      <td>3</td>\n",
       "      <td>5</td>\n",
       "      <td>1</td>\n",
       "      <td>1</td>\n",
       "      <td>1</td>\n",
       "      <td>1</td>\n",
       "      <td>1</td>\n",
       "    </tr>\n",
       "    <tr>\n",
       "      <th>1</th>\n",
       "      <td>1</td>\n",
       "      <td>2</td>\n",
       "      <td>2</td>\n",
       "      <td>1</td>\n",
       "      <td>1</td>\n",
       "      <td>3</td>\n",
       "      <td>5</td>\n",
       "      <td>1</td>\n",
       "      <td>1</td>\n",
       "      <td>1</td>\n",
       "      <td>1</td>\n",
       "      <td>1</td>\n",
       "    </tr>\n",
       "    <tr>\n",
       "      <th>2</th>\n",
       "      <td>1</td>\n",
       "      <td>2</td>\n",
       "      <td>1</td>\n",
       "      <td>3</td>\n",
       "      <td>2</td>\n",
       "      <td>5</td>\n",
       "      <td>4</td>\n",
       "      <td>4</td>\n",
       "      <td>3</td>\n",
       "      <td>3</td>\n",
       "      <td>1</td>\n",
       "      <td>1</td>\n",
       "    </tr>\n",
       "    <tr>\n",
       "      <th>3</th>\n",
       "      <td>4</td>\n",
       "      <td>2</td>\n",
       "      <td>1</td>\n",
       "      <td>2</td>\n",
       "      <td>2</td>\n",
       "      <td>5</td>\n",
       "      <td>4</td>\n",
       "      <td>1</td>\n",
       "      <td>1</td>\n",
       "      <td>3</td>\n",
       "      <td>1</td>\n",
       "      <td>1</td>\n",
       "    </tr>\n",
       "    <tr>\n",
       "      <th>4</th>\n",
       "      <td>3</td>\n",
       "      <td>2</td>\n",
       "      <td>1</td>\n",
       "      <td>1</td>\n",
       "      <td>1</td>\n",
       "      <td>5</td>\n",
       "      <td>1</td>\n",
       "      <td>1</td>\n",
       "      <td>1</td>\n",
       "      <td>1</td>\n",
       "      <td>1</td>\n",
       "      <td>1</td>\n",
       "    </tr>\n",
       "  </tbody>\n",
       "</table>\n",
       "</div>"
      ],
      "text/plain": [
       "   Q1  Q2  Q3  Q4  Q5  Q6  Q7  Q8  Q9  Q10  Q11  Q12\n",
       "0   3   2   2   1   1   3   5   1   1    1    1    1\n",
       "1   1   2   2   1   1   3   5   1   1    1    1    1\n",
       "2   1   2   1   3   2   5   4   4   3    3    1    1\n",
       "3   4   2   1   2   2   5   4   1   1    3    1    1\n",
       "4   3   2   1   1   1   5   1   1   1    1    1    1"
      ]
     },
     "execution_count": 7,
     "metadata": {},
     "output_type": "execute_result"
    }
   ],
   "source": [
    "# Data Head (data bagian awal)"
   ]
  },
  {
   "cell_type": "markdown",
   "metadata": {},
   "source": [
    "## 1.3.  DATA AKHIR SURVEY"
   ]
  },
  {
   "cell_type": "code",
   "execution_count": 8,
   "metadata": {},
   "outputs": [
    {
     "data": {
      "text/html": [
       "<div>\n",
       "<style scoped>\n",
       "    .dataframe tbody tr th:only-of-type {\n",
       "        vertical-align: middle;\n",
       "    }\n",
       "\n",
       "    .dataframe tbody tr th {\n",
       "        vertical-align: top;\n",
       "    }\n",
       "\n",
       "    .dataframe thead th {\n",
       "        text-align: right;\n",
       "    }\n",
       "</style>\n",
       "<table border=\"1\" class=\"dataframe\">\n",
       "  <thead>\n",
       "    <tr style=\"text-align: right;\">\n",
       "      <th></th>\n",
       "      <th>Q1</th>\n",
       "      <th>Q2</th>\n",
       "      <th>Q3</th>\n",
       "      <th>Q4</th>\n",
       "      <th>Q5</th>\n",
       "      <th>Q6</th>\n",
       "      <th>Q7</th>\n",
       "      <th>Q8</th>\n",
       "      <th>Q9</th>\n",
       "      <th>Q10</th>\n",
       "      <th>Q11</th>\n",
       "      <th>Q12</th>\n",
       "    </tr>\n",
       "  </thead>\n",
       "  <tbody>\n",
       "    <tr>\n",
       "      <th>495</th>\n",
       "      <td>1</td>\n",
       "      <td>1</td>\n",
       "      <td>1</td>\n",
       "      <td>2</td>\n",
       "      <td>2</td>\n",
       "      <td>2</td>\n",
       "      <td>2</td>\n",
       "      <td>1</td>\n",
       "      <td>1</td>\n",
       "      <td>1</td>\n",
       "      <td>1</td>\n",
       "      <td>1</td>\n",
       "    </tr>\n",
       "    <tr>\n",
       "      <th>496</th>\n",
       "      <td>1</td>\n",
       "      <td>1</td>\n",
       "      <td>1</td>\n",
       "      <td>1</td>\n",
       "      <td>1</td>\n",
       "      <td>3</td>\n",
       "      <td>4</td>\n",
       "      <td>1</td>\n",
       "      <td>1</td>\n",
       "      <td>1</td>\n",
       "      <td>1</td>\n",
       "      <td>1</td>\n",
       "    </tr>\n",
       "    <tr>\n",
       "      <th>497</th>\n",
       "      <td>3</td>\n",
       "      <td>2</td>\n",
       "      <td>2</td>\n",
       "      <td>2</td>\n",
       "      <td>2</td>\n",
       "      <td>2</td>\n",
       "      <td>5</td>\n",
       "      <td>2</td>\n",
       "      <td>1</td>\n",
       "      <td>1</td>\n",
       "      <td>1</td>\n",
       "      <td>1</td>\n",
       "    </tr>\n",
       "    <tr>\n",
       "      <th>498</th>\n",
       "      <td>1</td>\n",
       "      <td>1</td>\n",
       "      <td>1</td>\n",
       "      <td>1</td>\n",
       "      <td>3</td>\n",
       "      <td>3</td>\n",
       "      <td>5</td>\n",
       "      <td>1</td>\n",
       "      <td>1</td>\n",
       "      <td>1</td>\n",
       "      <td>1</td>\n",
       "      <td>1</td>\n",
       "    </tr>\n",
       "    <tr>\n",
       "      <th>499</th>\n",
       "      <td>3</td>\n",
       "      <td>2</td>\n",
       "      <td>2</td>\n",
       "      <td>2</td>\n",
       "      <td>3</td>\n",
       "      <td>3</td>\n",
       "      <td>5</td>\n",
       "      <td>1</td>\n",
       "      <td>1</td>\n",
       "      <td>1</td>\n",
       "      <td>1</td>\n",
       "      <td>1</td>\n",
       "    </tr>\n",
       "  </tbody>\n",
       "</table>\n",
       "</div>"
      ],
      "text/plain": [
       "     Q1  Q2  Q3  Q4  Q5  Q6  Q7  Q8  Q9  Q10  Q11  Q12\n",
       "495   1   1   1   2   2   2   2   1   1    1    1    1\n",
       "496   1   1   1   1   1   3   4   1   1    1    1    1\n",
       "497   3   2   2   2   2   2   5   2   1    1    1    1\n",
       "498   1   1   1   1   3   3   5   1   1    1    1    1\n",
       "499   3   2   2   2   3   3   5   1   1    1    1    1"
      ]
     },
     "execution_count": 8,
     "metadata": {},
     "output_type": "execute_result"
    }
   ],
   "source": [
    "# Data Tail (data bagian akhir)"
   ]
  },
  {
   "cell_type": "markdown",
   "metadata": {},
   "source": [
    "---"
   ]
  },
  {
   "cell_type": "markdown",
   "metadata": {},
   "source": [
    "**Lebih lanjut, kita bisa melihat dimensi (bentuk) dari data yang kita miliki dan mengamati jumlah pertanyaan yang tersedia untuk dianalisis**"
   ]
  },
  {
   "cell_type": "markdown",
   "metadata": {},
   "source": [
    "## 1.4.  DIMENSI DATA"
   ]
  },
  {
   "cell_type": "code",
   "execution_count": 10,
   "metadata": {},
   "outputs": [
    {
     "data": {
      "text/plain": [
       "(500, 12)"
      ]
     },
     "execution_count": 10,
     "metadata": {},
     "output_type": "execute_result"
    }
   ],
   "source": [
    "df.shape"
   ]
  },
  {
   "cell_type": "markdown",
   "metadata": {},
   "source": [
    "**Dapat dilihat dari output diatas menunjukkan ada 500 buah data dengan 12 pertanyaan dan output berikutnya menampilkan feature apa saja yang ada dalam data.**"
   ]
  },
  {
   "cell_type": "markdown",
   "metadata": {},
   "source": [
    "## 1.5. PERTANYAAN YANG TERSEDIA"
   ]
  },
  {
   "cell_type": "code",
   "execution_count": 11,
   "metadata": {},
   "outputs": [
    {
     "data": {
      "text/plain": [
       "Index(['Q1', 'Q2', 'Q3', 'Q4', 'Q5', 'Q6', 'Q7', 'Q8', 'Q9', 'Q10', 'Q11',\n",
       "       'Q12'],\n",
       "      dtype='object')"
      ]
     },
     "execution_count": 11,
     "metadata": {},
     "output_type": "execute_result"
    }
   ],
   "source": [
    "# Variabel"
   ]
  },
  {
   "cell_type": "code",
   "execution_count": 12,
   "metadata": {},
   "outputs": [
    {
     "name": "stdout",
     "output_type": "stream",
     "text": [
      "Q1  = Seberapa sering anda menggunakan bahasa pemrograman C?\n",
      "Q2  = Seberapa tahukah anda tentang bahasa permograman Java?\n",
      "Q3  = Pernahkah anda membuat program menggunakan bahasa pemrograman Python?\n",
      "Q4  = Seberapa tahukah anda tentang Pemrograman Interface (API)\n",
      "Q5  = Seberapa tahukah anda tentang Pemrograman Berorientasi Objek (OOP)?\n",
      "Q6  = Seberapa sering anda menggunakan programming software bajakan?\n",
      "Q7  = Seberapa perlunya dokumen manual/tutorial ketika membuat program?\n",
      "Q8  = Pernakah anda melakukan trial dan error atau mengembangkan program yang dibuat orang lain?\n",
      "Q9  = Seberapa seringkah anda menggunakan Extension saat membuat program?\n",
      "Q10 = Seberapa sering anda mengelola (menginstal,menghapus,menonaktifkan instalasi) Extension anda?\n",
      "Q11 = Apakah anda sering menggunakan Extension berbayar?\n",
      "Q12 = Apakah anda sering menggunakan Auto Indent Extension\n"
     ]
    }
   ],
   "source": [
    "# Melihat pertanyaan apa saja yang ada di tabel"
   ]
  },
  {
   "cell_type": "markdown",
   "metadata": {},
   "source": [
    "---"
   ]
  },
  {
   "cell_type": "markdown",
   "metadata": {},
   "source": [
    "## 1.6. GAMBARAN STATISTIK TIAP PERTANYAAN"
   ]
  },
  {
   "cell_type": "code",
   "execution_count": 13,
   "metadata": {},
   "outputs": [
    {
     "data": {
      "text/html": [
       "<div>\n",
       "<style scoped>\n",
       "    .dataframe tbody tr th:only-of-type {\n",
       "        vertical-align: middle;\n",
       "    }\n",
       "\n",
       "    .dataframe tbody tr th {\n",
       "        vertical-align: top;\n",
       "    }\n",
       "\n",
       "    .dataframe thead th {\n",
       "        text-align: right;\n",
       "    }\n",
       "</style>\n",
       "<table border=\"1\" class=\"dataframe\">\n",
       "  <thead>\n",
       "    <tr style=\"text-align: right;\">\n",
       "      <th></th>\n",
       "      <th>Q1</th>\n",
       "      <th>Q2</th>\n",
       "      <th>Q3</th>\n",
       "      <th>Q4</th>\n",
       "      <th>Q5</th>\n",
       "      <th>Q6</th>\n",
       "      <th>Q7</th>\n",
       "      <th>Q8</th>\n",
       "      <th>Q9</th>\n",
       "      <th>Q10</th>\n",
       "      <th>Q11</th>\n",
       "      <th>Q12</th>\n",
       "    </tr>\n",
       "  </thead>\n",
       "  <tbody>\n",
       "    <tr>\n",
       "      <th>count</th>\n",
       "      <td>500.000000</td>\n",
       "      <td>500.000000</td>\n",
       "      <td>500.000000</td>\n",
       "      <td>500.000000</td>\n",
       "      <td>500.000000</td>\n",
       "      <td>500.000000</td>\n",
       "      <td>500.000000</td>\n",
       "      <td>500.000000</td>\n",
       "      <td>500.000000</td>\n",
       "      <td>500.000000</td>\n",
       "      <td>500.000000</td>\n",
       "      <td>500.000000</td>\n",
       "    </tr>\n",
       "    <tr>\n",
       "      <th>mean</th>\n",
       "      <td>2.324000</td>\n",
       "      <td>2.192000</td>\n",
       "      <td>1.600000</td>\n",
       "      <td>2.000000</td>\n",
       "      <td>2.106000</td>\n",
       "      <td>2.218000</td>\n",
       "      <td>3.786000</td>\n",
       "      <td>2.034000</td>\n",
       "      <td>2.038000</td>\n",
       "      <td>2.206000</td>\n",
       "      <td>1.654000</td>\n",
       "      <td>1.680000</td>\n",
       "    </tr>\n",
       "    <tr>\n",
       "      <th>std</th>\n",
       "      <td>1.205791</td>\n",
       "      <td>1.090649</td>\n",
       "      <td>1.022786</td>\n",
       "      <td>1.051766</td>\n",
       "      <td>1.158208</td>\n",
       "      <td>1.241595</td>\n",
       "      <td>1.266259</td>\n",
       "      <td>1.350738</td>\n",
       "      <td>1.245656</td>\n",
       "      <td>1.273895</td>\n",
       "      <td>1.033644</td>\n",
       "      <td>1.069527</td>\n",
       "    </tr>\n",
       "    <tr>\n",
       "      <th>min</th>\n",
       "      <td>1.000000</td>\n",
       "      <td>1.000000</td>\n",
       "      <td>1.000000</td>\n",
       "      <td>1.000000</td>\n",
       "      <td>1.000000</td>\n",
       "      <td>1.000000</td>\n",
       "      <td>1.000000</td>\n",
       "      <td>1.000000</td>\n",
       "      <td>1.000000</td>\n",
       "      <td>1.000000</td>\n",
       "      <td>1.000000</td>\n",
       "      <td>1.000000</td>\n",
       "    </tr>\n",
       "    <tr>\n",
       "      <th>25%</th>\n",
       "      <td>1.000000</td>\n",
       "      <td>1.000000</td>\n",
       "      <td>1.000000</td>\n",
       "      <td>1.000000</td>\n",
       "      <td>1.000000</td>\n",
       "      <td>1.000000</td>\n",
       "      <td>3.000000</td>\n",
       "      <td>1.000000</td>\n",
       "      <td>1.000000</td>\n",
       "      <td>1.000000</td>\n",
       "      <td>1.000000</td>\n",
       "      <td>1.000000</td>\n",
       "    </tr>\n",
       "    <tr>\n",
       "      <th>50%</th>\n",
       "      <td>3.000000</td>\n",
       "      <td>2.000000</td>\n",
       "      <td>1.000000</td>\n",
       "      <td>2.000000</td>\n",
       "      <td>2.000000</td>\n",
       "      <td>2.000000</td>\n",
       "      <td>4.000000</td>\n",
       "      <td>1.000000</td>\n",
       "      <td>1.000000</td>\n",
       "      <td>2.000000</td>\n",
       "      <td>1.000000</td>\n",
       "      <td>1.000000</td>\n",
       "    </tr>\n",
       "    <tr>\n",
       "      <th>75%</th>\n",
       "      <td>3.000000</td>\n",
       "      <td>3.000000</td>\n",
       "      <td>2.000000</td>\n",
       "      <td>3.000000</td>\n",
       "      <td>3.000000</td>\n",
       "      <td>3.000000</td>\n",
       "      <td>5.000000</td>\n",
       "      <td>3.000000</td>\n",
       "      <td>3.000000</td>\n",
       "      <td>3.000000</td>\n",
       "      <td>2.000000</td>\n",
       "      <td>3.000000</td>\n",
       "    </tr>\n",
       "    <tr>\n",
       "      <th>max</th>\n",
       "      <td>5.000000</td>\n",
       "      <td>5.000000</td>\n",
       "      <td>5.000000</td>\n",
       "      <td>5.000000</td>\n",
       "      <td>5.000000</td>\n",
       "      <td>5.000000</td>\n",
       "      <td>5.000000</td>\n",
       "      <td>5.000000</td>\n",
       "      <td>5.000000</td>\n",
       "      <td>5.000000</td>\n",
       "      <td>5.000000</td>\n",
       "      <td>5.000000</td>\n",
       "    </tr>\n",
       "  </tbody>\n",
       "</table>\n",
       "</div>"
      ],
      "text/plain": [
       "               Q1          Q2          Q3          Q4          Q5          Q6  \\\n",
       "count  500.000000  500.000000  500.000000  500.000000  500.000000  500.000000   \n",
       "mean     2.324000    2.192000    1.600000    2.000000    2.106000    2.218000   \n",
       "std      1.205791    1.090649    1.022786    1.051766    1.158208    1.241595   \n",
       "min      1.000000    1.000000    1.000000    1.000000    1.000000    1.000000   \n",
       "25%      1.000000    1.000000    1.000000    1.000000    1.000000    1.000000   \n",
       "50%      3.000000    2.000000    1.000000    2.000000    2.000000    2.000000   \n",
       "75%      3.000000    3.000000    2.000000    3.000000    3.000000    3.000000   \n",
       "max      5.000000    5.000000    5.000000    5.000000    5.000000    5.000000   \n",
       "\n",
       "               Q7          Q8          Q9         Q10         Q11         Q12  \n",
       "count  500.000000  500.000000  500.000000  500.000000  500.000000  500.000000  \n",
       "mean     3.786000    2.034000    2.038000    2.206000    1.654000    1.680000  \n",
       "std      1.266259    1.350738    1.245656    1.273895    1.033644    1.069527  \n",
       "min      1.000000    1.000000    1.000000    1.000000    1.000000    1.000000  \n",
       "25%      3.000000    1.000000    1.000000    1.000000    1.000000    1.000000  \n",
       "50%      4.000000    1.000000    1.000000    2.000000    1.000000    1.000000  \n",
       "75%      5.000000    3.000000    3.000000    3.000000    2.000000    3.000000  \n",
       "max      5.000000    5.000000    5.000000    5.000000    5.000000    5.000000  "
      ]
     },
     "execution_count": 13,
     "metadata": {},
     "output_type": "execute_result"
    }
   ],
   "source": [
    "# Deskripsi Statistik Data"
   ]
  },
  {
   "cell_type": "markdown",
   "metadata": {},
   "source": [
    "**Untuk memberikan gambaran statistik dari nilai setiap features, kita dapat mendapatkan data-data seperti count(jumlah data), mean (rata-rata), std (standar deviasi), nilai mininum, maksimum, hingga nilai-nilai tengah pada 25%, 50%, dan 75%.**"
   ]
  },
  {
   "cell_type": "markdown",
   "metadata": {},
   "source": [
    "---"
   ]
  },
  {
   "cell_type": "markdown",
   "metadata": {},
   "source": [
    "**Setelah mengetahui gambaran umum dari data survey, berikutnya beralih ke pengolahan lebih jauh yaitu Analisa Korelasi**."
   ]
  },
  {
   "cell_type": "markdown",
   "metadata": {},
   "source": [
    "## 1.7. KORELASI"
   ]
  },
  {
   "cell_type": "code",
   "execution_count": 14,
   "metadata": {},
   "outputs": [
    {
     "data": {
      "text/html": [
       "<div>\n",
       "<style scoped>\n",
       "    .dataframe tbody tr th:only-of-type {\n",
       "        vertical-align: middle;\n",
       "    }\n",
       "\n",
       "    .dataframe tbody tr th {\n",
       "        vertical-align: top;\n",
       "    }\n",
       "\n",
       "    .dataframe thead th {\n",
       "        text-align: right;\n",
       "    }\n",
       "</style>\n",
       "<table border=\"1\" class=\"dataframe\">\n",
       "  <thead>\n",
       "    <tr style=\"text-align: right;\">\n",
       "      <th></th>\n",
       "      <th>Q1</th>\n",
       "      <th>Q2</th>\n",
       "      <th>Q3</th>\n",
       "      <th>Q4</th>\n",
       "      <th>Q5</th>\n",
       "      <th>Q6</th>\n",
       "      <th>Q7</th>\n",
       "      <th>Q8</th>\n",
       "      <th>Q9</th>\n",
       "      <th>Q10</th>\n",
       "      <th>Q11</th>\n",
       "      <th>Q12</th>\n",
       "    </tr>\n",
       "  </thead>\n",
       "  <tbody>\n",
       "    <tr>\n",
       "      <th>Q1</th>\n",
       "      <td>1.000000</td>\n",
       "      <td>0.481365</td>\n",
       "      <td>0.322687</td>\n",
       "      <td>0.351777</td>\n",
       "      <td>0.340846</td>\n",
       "      <td>0.043223</td>\n",
       "      <td>0.123431</td>\n",
       "      <td>0.293891</td>\n",
       "      <td>0.388235</td>\n",
       "      <td>0.391250</td>\n",
       "      <td>0.338975</td>\n",
       "      <td>0.393811</td>\n",
       "    </tr>\n",
       "    <tr>\n",
       "      <th>Q2</th>\n",
       "      <td>0.481365</td>\n",
       "      <td>1.000000</td>\n",
       "      <td>0.412108</td>\n",
       "      <td>0.514678</td>\n",
       "      <td>0.490715</td>\n",
       "      <td>0.051818</td>\n",
       "      <td>0.156369</td>\n",
       "      <td>0.324895</td>\n",
       "      <td>0.454054</td>\n",
       "      <td>0.390038</td>\n",
       "      <td>0.335209</td>\n",
       "      <td>0.401794</td>\n",
       "    </tr>\n",
       "    <tr>\n",
       "      <th>Q3</th>\n",
       "      <td>0.322687</td>\n",
       "      <td>0.412108</td>\n",
       "      <td>1.000000</td>\n",
       "      <td>0.449629</td>\n",
       "      <td>0.442907</td>\n",
       "      <td>0.034423</td>\n",
       "      <td>0.089399</td>\n",
       "      <td>0.408902</td>\n",
       "      <td>0.443547</td>\n",
       "      <td>0.291173</td>\n",
       "      <td>0.322436</td>\n",
       "      <td>0.445185</td>\n",
       "    </tr>\n",
       "    <tr>\n",
       "      <th>Q4</th>\n",
       "      <td>0.351777</td>\n",
       "      <td>0.514678</td>\n",
       "      <td>0.449629</td>\n",
       "      <td>1.000000</td>\n",
       "      <td>0.692898</td>\n",
       "      <td>0.075663</td>\n",
       "      <td>0.115425</td>\n",
       "      <td>0.331256</td>\n",
       "      <td>0.479022</td>\n",
       "      <td>0.373284</td>\n",
       "      <td>0.332309</td>\n",
       "      <td>0.419382</td>\n",
       "    </tr>\n",
       "    <tr>\n",
       "      <th>Q5</th>\n",
       "      <td>0.340846</td>\n",
       "      <td>0.490715</td>\n",
       "      <td>0.442907</td>\n",
       "      <td>0.692898</td>\n",
       "      <td>1.000000</td>\n",
       "      <td>0.084349</td>\n",
       "      <td>0.142467</td>\n",
       "      <td>0.359346</td>\n",
       "      <td>0.490267</td>\n",
       "      <td>0.368754</td>\n",
       "      <td>0.292026</td>\n",
       "      <td>0.385657</td>\n",
       "    </tr>\n",
       "    <tr>\n",
       "      <th>Q6</th>\n",
       "      <td>0.043223</td>\n",
       "      <td>0.051818</td>\n",
       "      <td>0.034423</td>\n",
       "      <td>0.075663</td>\n",
       "      <td>0.084349</td>\n",
       "      <td>1.000000</td>\n",
       "      <td>0.008381</td>\n",
       "      <td>0.035903</td>\n",
       "      <td>0.081955</td>\n",
       "      <td>0.131510</td>\n",
       "      <td>0.136836</td>\n",
       "      <td>0.063637</td>\n",
       "    </tr>\n",
       "    <tr>\n",
       "      <th>Q7</th>\n",
       "      <td>0.123431</td>\n",
       "      <td>0.156369</td>\n",
       "      <td>0.089399</td>\n",
       "      <td>0.115425</td>\n",
       "      <td>0.142467</td>\n",
       "      <td>0.008381</td>\n",
       "      <td>1.000000</td>\n",
       "      <td>0.196409</td>\n",
       "      <td>0.190381</td>\n",
       "      <td>0.173285</td>\n",
       "      <td>0.044772</td>\n",
       "      <td>0.064227</td>\n",
       "    </tr>\n",
       "    <tr>\n",
       "      <th>Q8</th>\n",
       "      <td>0.293891</td>\n",
       "      <td>0.324895</td>\n",
       "      <td>0.408902</td>\n",
       "      <td>0.331256</td>\n",
       "      <td>0.359346</td>\n",
       "      <td>0.035903</td>\n",
       "      <td>0.196409</td>\n",
       "      <td>1.000000</td>\n",
       "      <td>0.503911</td>\n",
       "      <td>0.383245</td>\n",
       "      <td>0.377782</td>\n",
       "      <td>0.487561</td>\n",
       "    </tr>\n",
       "    <tr>\n",
       "      <th>Q9</th>\n",
       "      <td>0.388235</td>\n",
       "      <td>0.454054</td>\n",
       "      <td>0.443547</td>\n",
       "      <td>0.479022</td>\n",
       "      <td>0.490267</td>\n",
       "      <td>0.081955</td>\n",
       "      <td>0.190381</td>\n",
       "      <td>0.503911</td>\n",
       "      <td>1.000000</td>\n",
       "      <td>0.652170</td>\n",
       "      <td>0.462559</td>\n",
       "      <td>0.615666</td>\n",
       "    </tr>\n",
       "    <tr>\n",
       "      <th>Q10</th>\n",
       "      <td>0.391250</td>\n",
       "      <td>0.390038</td>\n",
       "      <td>0.291173</td>\n",
       "      <td>0.373284</td>\n",
       "      <td>0.368754</td>\n",
       "      <td>0.131510</td>\n",
       "      <td>0.173285</td>\n",
       "      <td>0.383245</td>\n",
       "      <td>0.652170</td>\n",
       "      <td>1.000000</td>\n",
       "      <td>0.520178</td>\n",
       "      <td>0.535710</td>\n",
       "    </tr>\n",
       "    <tr>\n",
       "      <th>Q11</th>\n",
       "      <td>0.338975</td>\n",
       "      <td>0.335209</td>\n",
       "      <td>0.322436</td>\n",
       "      <td>0.332309</td>\n",
       "      <td>0.292026</td>\n",
       "      <td>0.136836</td>\n",
       "      <td>0.044772</td>\n",
       "      <td>0.377782</td>\n",
       "      <td>0.462559</td>\n",
       "      <td>0.520178</td>\n",
       "      <td>1.000000</td>\n",
       "      <td>0.623726</td>\n",
       "    </tr>\n",
       "    <tr>\n",
       "      <th>Q12</th>\n",
       "      <td>0.393811</td>\n",
       "      <td>0.401794</td>\n",
       "      <td>0.445185</td>\n",
       "      <td>0.419382</td>\n",
       "      <td>0.385657</td>\n",
       "      <td>0.063637</td>\n",
       "      <td>0.064227</td>\n",
       "      <td>0.487561</td>\n",
       "      <td>0.615666</td>\n",
       "      <td>0.535710</td>\n",
       "      <td>0.623726</td>\n",
       "      <td>1.000000</td>\n",
       "    </tr>\n",
       "  </tbody>\n",
       "</table>\n",
       "</div>"
      ],
      "text/plain": [
       "           Q1        Q2        Q3        Q4        Q5        Q6        Q7  \\\n",
       "Q1   1.000000  0.481365  0.322687  0.351777  0.340846  0.043223  0.123431   \n",
       "Q2   0.481365  1.000000  0.412108  0.514678  0.490715  0.051818  0.156369   \n",
       "Q3   0.322687  0.412108  1.000000  0.449629  0.442907  0.034423  0.089399   \n",
       "Q4   0.351777  0.514678  0.449629  1.000000  0.692898  0.075663  0.115425   \n",
       "Q5   0.340846  0.490715  0.442907  0.692898  1.000000  0.084349  0.142467   \n",
       "Q6   0.043223  0.051818  0.034423  0.075663  0.084349  1.000000  0.008381   \n",
       "Q7   0.123431  0.156369  0.089399  0.115425  0.142467  0.008381  1.000000   \n",
       "Q8   0.293891  0.324895  0.408902  0.331256  0.359346  0.035903  0.196409   \n",
       "Q9   0.388235  0.454054  0.443547  0.479022  0.490267  0.081955  0.190381   \n",
       "Q10  0.391250  0.390038  0.291173  0.373284  0.368754  0.131510  0.173285   \n",
       "Q11  0.338975  0.335209  0.322436  0.332309  0.292026  0.136836  0.044772   \n",
       "Q12  0.393811  0.401794  0.445185  0.419382  0.385657  0.063637  0.064227   \n",
       "\n",
       "           Q8        Q9       Q10       Q11       Q12  \n",
       "Q1   0.293891  0.388235  0.391250  0.338975  0.393811  \n",
       "Q2   0.324895  0.454054  0.390038  0.335209  0.401794  \n",
       "Q3   0.408902  0.443547  0.291173  0.322436  0.445185  \n",
       "Q4   0.331256  0.479022  0.373284  0.332309  0.419382  \n",
       "Q5   0.359346  0.490267  0.368754  0.292026  0.385657  \n",
       "Q6   0.035903  0.081955  0.131510  0.136836  0.063637  \n",
       "Q7   0.196409  0.190381  0.173285  0.044772  0.064227  \n",
       "Q8   1.000000  0.503911  0.383245  0.377782  0.487561  \n",
       "Q9   0.503911  1.000000  0.652170  0.462559  0.615666  \n",
       "Q10  0.383245  0.652170  1.000000  0.520178  0.535710  \n",
       "Q11  0.377782  0.462559  0.520178  1.000000  0.623726  \n",
       "Q12  0.487561  0.615666  0.535710  0.623726  1.000000  "
      ]
     },
     "execution_count": 14,
     "metadata": {},
     "output_type": "execute_result"
    }
   ],
   "source": [
    "# KORELASI ANTAR PERTANYAAN DENGAN METODE KENDALL RANK CORRELATION."
   ]
  },
  {
   "cell_type": "markdown",
   "metadata": {},
   "source": [
    "###### *Mapping correlation table* dilakukan untuk mempermudah pembacaan"
   ]
  },
  {
   "cell_type": "code",
   "execution_count": 15,
   "metadata": {},
   "outputs": [
    {
     "data": {
      "text/plain": [
       "<function matplotlib.pyplot.show(*args, **kw)>"
      ]
     },
     "execution_count": 15,
     "metadata": {},
     "output_type": "execute_result"
    },
    {
     "data": {
      "image/png": "[encoded data removed]",
      "text/plain": [
       "<Figure size 1440x1080 with 2 Axes>"
      ]
     },
     "metadata": {
      "needs_background": "light"
     },
     "output_type": "display_data"
    }
   ],
   "source": [
    "# Sel yang semakin terang menunjukkan nilai korelasi yang semakin besar"
   ]
  },
  {
   "cell_type": "markdown",
   "metadata": {},
   "source": [
    "**Hasil dari pembacaan di atas, dapat memberikan gambaran korelasi antar pertanyaan. Dapat kita lihat sel yang mempertemukan Q4 dan Q5 memberikan memberikan nilai yang cukup besar dibandingkan sel yang lain. Begitu juga dengan Q11 dengan Q12 atau Q9 dan Q12 serta Q10 dan Q9.**\n"
   ]
  },
  {
   "cell_type": "markdown",
   "metadata": {},
   "source": [
    "**Dari hasil korelasi pertanyaan yang memiliki nilai paling besar dapat disimpulkan bahwa :**\n",
    "###### * Q4 dengan Q5 : Responden yang mengetahui pemorgraman infterface (API) juga mengetahui pemrograman berorientasi objek (OOP).\n",
    "###### * Q11 dengan Q12 : Responden yang menggunakan *extension* berbayar juga menggunakan *Auto Indent Extension*.\n",
    "###### * Q9 dengan Q12 : Responden yang menggunakan *extension* memakai *Auto Indent Extension*. \n",
    "###### * Q9 dengan Q10  : Responden yang menggunakan *extension* saat membuat program sering mengelola *Extension*nya."
   ]
  },
  {
   "cell_type": "markdown",
   "metadata": {},
   "source": [
    "---"
   ]
  },
  {
   "cell_type": "markdown",
   "metadata": {},
   "source": [
    "# 2. MENGUJI DATA SURVEY"
   ]
  },
  {
   "cell_type": "markdown",
   "metadata": {},
   "source": [
    "## 2.1. Menguji data dengan test Cronbach's Alpha"
   ]
  },
  {
   "cell_type": "code",
   "execution_count": 3,
   "metadata": {
    "scrolled": false
   },
   "outputs": [
    {
     "data": {
      "text/plain": [
       "\n",
       "Reliability analysis   \n",
       "Call: alpha(x = mydata)\n",
       "\n",
       "  raw_alpha std.alpha G6(smc) average_r S/N    ase mean   sd median_r\n",
       "      0.86      0.87    0.89      0.35 6.5 0.0088  2.2 0.74     0.39\n",
       "\n",
       " lower alpha upper     95% confidence boundaries\n",
       "0.85 0.86 0.88 \n",
       "\n",
       " Reliability if an item is dropped:\n",
       "    raw_alpha std.alpha G6(smc) average_r S/N alpha se var.r med.r\n",
       "Q1       0.85      0.86    0.88      0.35 6.0   0.0095 0.041  0.41\n",
       "Q2       0.85      0.85    0.87      0.34 5.7   0.0099 0.039  0.38\n",
       "Q3       0.85      0.86    0.88      0.35 6.0   0.0096 0.040  0.39\n",
       "Q4       0.85      0.85    0.87      0.34 5.7   0.0100 0.037  0.39\n",
       "Q5       0.84      0.85    0.87      0.34 5.7   0.0100 0.038  0.39\n",
       "Q6       0.88      0.89    0.90      0.41 7.8   0.0077 0.021  0.43\n",
       "Q7       0.87      0.87    0.89      0.39 7.0   0.0083 0.036  0.43\n",
       "Q8       0.85      0.85    0.87      0.35 5.9   0.0098 0.040  0.39\n",
       "Q9       0.84      0.84    0.86      0.33 5.4   0.0107 0.035  0.38\n",
       "Q10      0.84      0.85    0.87      0.34 5.6   0.0102 0.038  0.38\n",
       "Q11      0.85      0.86    0.87      0.35 5.9   0.0097 0.039  0.42\n",
       "Q12      0.84      0.85    0.86      0.33 5.5   0.0102 0.035  0.38\n",
       "\n",
       " Item statistics \n",
       "      n raw.r std.r r.cor r.drop mean  sd\n",
       "Q1  500  0.63  0.63 0.577  0.537  2.3 1.2\n",
       "Q2  500  0.71  0.72 0.692  0.642  2.2 1.1\n",
       "Q3  500  0.63  0.64 0.595  0.549  1.6 1.0\n",
       "Q4  500  0.72  0.73 0.719  0.654  2.0 1.1\n",
       "Q5  500  0.72  0.72 0.710  0.644  2.1 1.2\n",
       "Q6  500  0.20  0.20 0.073  0.065  2.2 1.2\n",
       "Q7  500  0.39  0.37 0.276  0.260  3.8 1.3\n",
       "Q8  500  0.68  0.67 0.630  0.586  2.0 1.4\n",
       "Q9  500  0.81  0.81 0.814  0.758  2.0 1.2\n",
       "Q10 500  0.74  0.74 0.725  0.668  2.2 1.3\n",
       "Q11 500  0.65  0.66 0.633  0.576  1.7 1.0\n",
       "Q12 500  0.75  0.76 0.757  0.694  1.7 1.1\n",
       "\n",
       "Non missing response frequency for each item\n",
       "       1    2    3    4    5 miss\n",
       "Q1  0.39 0.08 0.36 0.13 0.03    0\n",
       "Q2  0.32 0.35 0.17 0.14 0.02    0\n",
       "Q3  0.69 0.11 0.13 0.05 0.02    0\n",
       "Q4  0.40 0.33 0.15 0.10 0.02    0\n",
       "Q5  0.39 0.31 0.14 0.13 0.03    0\n",
       "Q6  0.37 0.25 0.26 0.02 0.10    0\n",
       "Q7  0.10 0.08 0.10 0.37 0.34    0\n",
       "Q8  0.58 0.06 0.17 0.14 0.06    0\n",
       "Q9  0.55 0.04 0.27 0.11 0.03    0\n",
       "Q10 0.48 0.06 0.29 0.14 0.04    0\n",
       "Q11 0.68 0.08 0.17 0.07 0.01    0\n",
       "Q12 0.68 0.06 0.18 0.07 0.01    0"
      ]
     },
     "metadata": {},
     "output_type": "display_data"
    }
   ],
   "source": [
    "alpha(mydata)"
   ]
  },
  {
   "cell_type": "markdown",
   "metadata": {},
   "source": [
    "**Berdasarkan pengolahan menggunakan bahasa pemrograman R, diperoleh nilai alpha pada tabel output >0.6 sehingga data dapat dikatakan Reliabel.**"
   ]
  },
  {
   "cell_type": "markdown",
   "metadata": {},
   "source": [
    "## 2.2. T-Test"
   ]
  },
  {
   "cell_type": "markdown",
   "metadata": {},
   "source": [
    "#### Paired T-Test"
   ]
  },
  {
   "cell_type": "code",
   "execution_count": 30,
   "metadata": {},
   "outputs": [
    {
     "data": {
      "text/plain": [
       "\n",
       "\tPaired t-test\n",
       "\n",
       "data:  Q1 and Q2\n",
       "t = 2.5718, df = 499, p-value = 0.01041\n",
       "alternative hypothesis: true difference in means is not equal to 0\n",
       "95 percent confidence interval:\n",
       " 0.0311571 0.2328429\n",
       "sample estimates:\n",
       "mean of the differences \n",
       "                  0.132 \n"
      ]
     },
     "metadata": {},
     "output_type": "display_data"
    }
   ],
   "source": [
    "t.test(Q1, Q2, mu=0, alt=\"two.sided\", paired=T, conf.level=0.95)"
   ]
  },
  {
   "cell_type": "code",
   "execution_count": 31,
   "metadata": {},
   "outputs": [
    {
     "data": {
      "text/plain": [
       "\n",
       "\tPaired t-test\n",
       "\n",
       "data:  Q1 and Q3\n",
       "t = 12.523, df = 499, p-value < 2.2e-16\n",
       "alternative hypothesis: true difference in means is not equal to 0\n",
       "95 percent confidence interval:\n",
       " 0.6104133 0.8375867\n",
       "sample estimates:\n",
       "mean of the differences \n",
       "                  0.724 \n"
      ]
     },
     "metadata": {},
     "output_type": "display_data"
    }
   ],
   "source": [
    "t.test(Q1, Q3, mu=0, alt=\"two.sided\", paired=T, conf.level=0.95)"
   ]
  },
  {
   "cell_type": "code",
   "execution_count": 32,
   "metadata": {},
   "outputs": [
    {
     "data": {
      "text/plain": [
       "\n",
       "\tPaired t-test\n",
       "\n",
       "data:  Q1 and Q4\n",
       "t = 5.7452, df = 499, p-value = 1.599e-08\n",
       "alternative hypothesis: true difference in means is not equal to 0\n",
       "95 percent confidence interval:\n",
       " 0.2131989 0.4348011\n",
       "sample estimates:\n",
       "mean of the differences \n",
       "                  0.324 \n"
      ]
     },
     "metadata": {},
     "output_type": "display_data"
    }
   ],
   "source": [
    "t.test(Q1, Q4, mu=0, alt=\"two.sided\", paired=T, conf.level=0.95)"
   ]
  },
  {
   "cell_type": "code",
   "execution_count": 33,
   "metadata": {},
   "outputs": [
    {
     "data": {
      "text/plain": [
       "\n",
       "\tPaired t-test\n",
       "\n",
       "data:  Q1 and Q5\n",
       "t = 3.6557, df = 499, p-value = 0.0002837\n",
       "alternative hypothesis: true difference in means is not equal to 0\n",
       "95 percent confidence interval:\n",
       " 0.1008378 0.3351622\n",
       "sample estimates:\n",
       "mean of the differences \n",
       "                  0.218 \n"
      ]
     },
     "metadata": {},
     "output_type": "display_data"
    }
   ],
   "source": [
    "t.test(Q1, Q5, mu=0, alt=\"two.sided\", paired=T, conf.level=0.95)"
   ]
  },
  {
   "cell_type": "code",
   "execution_count": 34,
   "metadata": {},
   "outputs": [
    {
     "data": {
      "text/plain": [
       "\n",
       "\tPaired t-test\n",
       "\n",
       "data:  Q1 and Q6\n",
       "t = 1.3956, df = 499, p-value = 0.1635\n",
       "alternative hypothesis: true difference in means is not equal to 0\n",
       "95 percent confidence interval:\n",
       " -0.04322978  0.25522978\n",
       "sample estimates:\n",
       "mean of the differences \n",
       "                  0.106 \n"
      ]
     },
     "metadata": {},
     "output_type": "display_data"
    }
   ],
   "source": [
    "t.test(Q1, Q6, mu=0, alt=\"two.sided\", paired=T, conf.level=0.95)"
   ]
  },
  {
   "cell_type": "code",
   "execution_count": 35,
   "metadata": {},
   "outputs": [
    {
     "data": {
      "text/plain": [
       "\n",
       "\tPaired t-test\n",
       "\n",
       "data:  Q1 and Q7\n",
       "t = -20.554, df = 499, p-value < 2.2e-16\n",
       "alternative hypothesis: true difference in means is not equal to 0\n",
       "95 percent confidence interval:\n",
       " -1.601748 -1.322252\n",
       "sample estimates:\n",
       "mean of the differences \n",
       "                 -1.462 \n"
      ]
     },
     "metadata": {},
     "output_type": "display_data"
    }
   ],
   "source": [
    "t.test(Q1, Q7, mu=0, alt=\"two.sided\", paired=T, conf.level=0.95)"
   ]
  },
  {
   "cell_type": "code",
   "execution_count": 36,
   "metadata": {},
   "outputs": [
    {
     "data": {
      "text/plain": [
       "\n",
       "\tPaired t-test\n",
       "\n",
       "data:  Q1 and Q8\n",
       "t = 4.4018, df = 499, p-value = 1.314e-05\n",
       "alternative hypothesis: true difference in means is not equal to 0\n",
       "95 percent confidence interval:\n",
       " 0.1605591 0.4194409\n",
       "sample estimates:\n",
       "mean of the differences \n",
       "                   0.29 \n"
      ]
     },
     "metadata": {},
     "output_type": "display_data"
    }
   ],
   "source": [
    "t.test(Q1, Q8, mu=0, alt=\"two.sided\", paired=T, conf.level=0.95)"
   ]
  },
  {
   "cell_type": "code",
   "execution_count": 37,
   "metadata": {},
   "outputs": [
    {
     "data": {
      "text/plain": [
       "\n",
       "\tPaired t-test\n",
       "\n",
       "data:  Q1 and Q9\n",
       "t = 4.8711, df = 499, p-value = 1.493e-06\n",
       "alternative hypothesis: true difference in means is not equal to 0\n",
       "95 percent confidence interval:\n",
       " 0.1706434 0.4013566\n",
       "sample estimates:\n",
       "mean of the differences \n",
       "                  0.286 \n"
      ]
     },
     "metadata": {},
     "output_type": "display_data"
    }
   ],
   "source": [
    "t.test(Q1, Q9, mu=0, alt=\"two.sided\", paired=T, conf.level=0.95)"
   ]
  },
  {
   "cell_type": "code",
   "execution_count": 38,
   "metadata": {},
   "outputs": [
    {
     "data": {
      "text/plain": [
       "\n",
       "\tPaired t-test\n",
       "\n",
       "data:  Q1 and Q10\n",
       "t = 2.0052, df = 499, p-value = 0.04548\n",
       "alternative hypothesis: true difference in means is not equal to 0\n",
       "95 percent confidence interval:\n",
       " 0.002379754 0.233620246\n",
       "sample estimates:\n",
       "mean of the differences \n",
       "                  0.118 \n"
      ]
     },
     "metadata": {},
     "output_type": "display_data"
    }
   ],
   "source": [
    "t.test(Q1, Q10, mu=0, alt=\"two.sided\", paired=T, conf.level=0.95)"
   ]
  },
  {
   "cell_type": "code",
   "execution_count": 39,
   "metadata": {},
   "outputs": [
    {
     "data": {
      "text/plain": [
       "\n",
       "\tPaired t-test\n",
       "\n",
       "data:  Q1 and Q11\n",
       "t = 12.025, df = 499, p-value < 2.2e-16\n",
       "alternative hypothesis: true difference in means is not equal to 0\n",
       "95 percent confidence interval:\n",
       " 0.5605307 0.7794693\n",
       "sample estimates:\n",
       "mean of the differences \n",
       "                   0.67 \n"
      ]
     },
     "metadata": {},
     "output_type": "display_data"
    }
   ],
   "source": [
    "t.test(Q1, Q11, mu=0, alt=\"two.sided\", paired=T, conf.level=0.95)"
   ]
  },
  {
   "cell_type": "code",
   "execution_count": 40,
   "metadata": {},
   "outputs": [
    {
     "data": {
      "text/plain": [
       "\n",
       "\tPaired t-test\n",
       "\n",
       "data:  Q1 and Q12\n",
       "t = 11.741, df = 499, p-value < 2.2e-16\n",
       "alternative hypothesis: true difference in means is not equal to 0\n",
       "95 percent confidence interval:\n",
       " 0.5362342 0.7517658\n",
       "sample estimates:\n",
       "mean of the differences \n",
       "                  0.644 \n"
      ]
     },
     "metadata": {},
     "output_type": "display_data"
    }
   ],
   "source": [
    "t.test(Q1, Q12, mu=0, alt=\"two.sided\", paired=T, conf.level=0.95)"
   ]
  },
  {
   "cell_type": "code",
   "execution_count": 41,
   "metadata": {},
   "outputs": [
    {
     "data": {
      "text/plain": [
       "\n",
       "\tPaired t-test\n",
       "\n",
       "data:  Q2 and Q3\n",
       "t = 11.737, df = 499, p-value < 2.2e-16\n",
       "alternative hypothesis: true difference in means is not equal to 0\n",
       "95 percent confidence interval:\n",
       " 0.4928997 0.6911003\n",
       "sample estimates:\n",
       "mean of the differences \n",
       "                  0.592 \n"
      ]
     },
     "metadata": {},
     "output_type": "display_data"
    }
   ],
   "source": [
    "t.test(Q2, Q3, mu=0, alt=\"two.sided\", paired=T, conf.level=0.95)"
   ]
  },
  {
   "cell_type": "code",
   "execution_count": 42,
   "metadata": {},
   "outputs": [
    {
     "data": {
      "text/plain": [
       "\n",
       "\tPaired t-test\n",
       "\n",
       "data:  Q2 and Q4\n",
       "t = 4.3522, df = 499, p-value = 1.636e-05\n",
       "alternative hypothesis: true difference in means is not equal to 0\n",
       "95 percent confidence interval:\n",
       " 0.1053253 0.2786747\n",
       "sample estimates:\n",
       "mean of the differences \n",
       "                  0.192 \n"
      ]
     },
     "metadata": {},
     "output_type": "display_data"
    }
   ],
   "source": [
    "t.test(Q2, Q4, mu=0, alt=\"two.sided\", paired=T, conf.level=0.95)"
   ]
  },
  {
   "cell_type": "code",
   "execution_count": 43,
   "metadata": {},
   "outputs": [
    {
     "data": {
      "text/plain": [
       "\n",
       "\tPaired t-test\n",
       "\n",
       "data:  Q2 and Q5\n",
       "t = 1.8197, df = 499, p-value = 0.06941\n",
       "alternative hypothesis: true difference in means is not equal to 0\n",
       "95 percent confidence interval:\n",
       " -0.006856598  0.178856598\n",
       "sample estimates:\n",
       "mean of the differences \n",
       "                  0.086 \n"
      ]
     },
     "metadata": {},
     "output_type": "display_data"
    }
   ],
   "source": [
    "t.test(Q2, Q5, mu=0, alt=\"two.sided\", paired=T, conf.level=0.95)"
   ]
  },
  {
   "cell_type": "code",
   "execution_count": 44,
   "metadata": {},
   "outputs": [
    {
     "data": {
      "text/plain": [
       "\n",
       "\tPaired t-test\n",
       "\n",
       "data:  Q2 and Q6\n",
       "t = -0.359, df = 499, p-value = 0.7197\n",
       "alternative hypothesis: true difference in means is not equal to 0\n",
       "95 percent confidence interval:\n",
       " -0.1682922  0.1162922\n",
       "sample estimates:\n",
       "mean of the differences \n",
       "                 -0.026 \n"
      ]
     },
     "metadata": {},
     "output_type": "display_data"
    }
   ],
   "source": [
    "t.test(Q2, Q6, mu=0, alt=\"two.sided\", paired=T, conf.level=0.95)"
   ]
  },
  {
   "cell_type": "code",
   "execution_count": 45,
   "metadata": {},
   "outputs": [
    {
     "data": {
      "text/plain": [
       "\n",
       "\tPaired t-test\n",
       "\n",
       "data:  Q2 and Q7\n",
       "t = -23.892, df = 499, p-value < 2.2e-16\n",
       "alternative hypothesis: true difference in means is not equal to 0\n",
       "95 percent confidence interval:\n",
       " -1.725082 -1.462918\n",
       "sample estimates:\n",
       "mean of the differences \n",
       "                 -1.594 \n"
      ]
     },
     "metadata": {},
     "output_type": "display_data"
    }
   ],
   "source": [
    "t.test(Q2, Q7, mu=0, alt=\"two.sided\", paired=T, conf.level=0.95)"
   ]
  },
  {
   "cell_type": "code",
   "execution_count": 46,
   "metadata": {},
   "outputs": [
    {
     "data": {
      "text/plain": [
       "\n",
       "\tPaired t-test\n",
       "\n",
       "data:  Q2 and Q8\n",
       "t = 2.5652, df = 499, p-value = 0.0106\n",
       "alternative hypothesis: true difference in means is not equal to 0\n",
       "95 percent confidence interval:\n",
       " 0.03698703 0.27901297\n",
       "sample estimates:\n",
       "mean of the differences \n",
       "                  0.158 \n"
      ]
     },
     "metadata": {},
     "output_type": "display_data"
    }
   ],
   "source": [
    "t.test(Q2, Q8, mu=0, alt=\"two.sided\", paired=T, conf.level=0.95)"
   ]
  },
  {
   "cell_type": "code",
   "execution_count": 47,
   "metadata": {},
   "outputs": [
    {
     "data": {
      "text/plain": [
       "\n",
       "\tPaired t-test\n",
       "\n",
       "data:  Q2 and Q9\n",
       "t = 2.9605, df = 499, p-value = 0.003218\n",
       "alternative hypothesis: true difference in means is not equal to 0\n",
       "95 percent confidence interval:\n",
       " 0.05179667 0.25620333\n",
       "sample estimates:\n",
       "mean of the differences \n",
       "                  0.154 \n"
      ]
     },
     "metadata": {},
     "output_type": "display_data"
    }
   ],
   "source": [
    "t.test(Q2, Q9, mu=0, alt=\"two.sided\", paired=T, conf.level=0.95)"
   ]
  },
  {
   "cell_type": "code",
   "execution_count": 48,
   "metadata": {},
   "outputs": [
    {
     "data": {
      "text/plain": [
       "\n",
       "\tPaired t-test\n",
       "\n",
       "data:  Q2 and Q10\n",
       "t = -0.24866, df = 499, p-value = 0.8037\n",
       "alternative hypothesis: true difference in means is not equal to 0\n",
       "95 percent confidence interval:\n",
       " -0.12461876  0.09661876\n",
       "sample estimates:\n",
       "mean of the differences \n",
       "                 -0.014 \n"
      ]
     },
     "metadata": {},
     "output_type": "display_data"
    }
   ],
   "source": [
    "t.test(Q2, Q10, mu=0, alt=\"two.sided\", paired=T, conf.level=0.95)"
   ]
  },
  {
   "cell_type": "code",
   "execution_count": 49,
   "metadata": {},
   "outputs": [
    {
     "data": {
      "text/plain": [
       "\n",
       "\tPaired t-test\n",
       "\n",
       "data:  Q2 and Q11\n",
       "t = 10.258, df = 499, p-value < 2.2e-16\n",
       "alternative hypothesis: true difference in means is not equal to 0\n",
       "95 percent confidence interval:\n",
       " 0.4349572 0.6410428\n",
       "sample estimates:\n",
       "mean of the differences \n",
       "                  0.538 \n"
      ]
     },
     "metadata": {},
     "output_type": "display_data"
    }
   ],
   "source": [
    "t.test(Q2, Q11, mu=0, alt=\"two.sided\", paired=T, conf.level=0.95)"
   ]
  },
  {
   "cell_type": "code",
   "execution_count": 50,
   "metadata": {},
   "outputs": [
    {
     "data": {
      "text/plain": [
       "\n",
       "\tPaired t-test\n",
       "\n",
       "data:  Q2 and Q12\n",
       "t = 10.182, df = 499, p-value < 2.2e-16\n",
       "alternative hypothesis: true difference in means is not equal to 0\n",
       "95 percent confidence interval:\n",
       " 0.4131999 0.6108001\n",
       "sample estimates:\n",
       "mean of the differences \n",
       "                  0.512 \n"
      ]
     },
     "metadata": {},
     "output_type": "display_data"
    }
   ],
   "source": [
    "t.test(Q2, Q12, mu=0, alt=\"two.sided\", paired=T, conf.level=0.95)"
   ]
  },
  {
   "cell_type": "code",
   "execution_count": 51,
   "metadata": {},
   "outputs": [
    {
     "data": {
      "text/plain": [
       "\n",
       "\tPaired t-test\n",
       "\n",
       "data:  Q3 and Q4\n",
       "t = -8.5821, df = 499, p-value < 2.2e-16\n",
       "alternative hypothesis: true difference in means is not equal to 0\n",
       "95 percent confidence interval:\n",
       " -0.4915729 -0.3084271\n",
       "sample estimates:\n",
       "mean of the differences \n",
       "                   -0.4 \n"
      ]
     },
     "metadata": {},
     "output_type": "display_data"
    }
   ],
   "source": [
    "t.test(Q3, Q4, mu=0, alt=\"two.sided\", paired=T, conf.level=0.95)"
   ]
  },
  {
   "cell_type": "code",
   "execution_count": 52,
   "metadata": {},
   "outputs": [
    {
     "data": {
      "text/plain": [
       "\n",
       "\tPaired t-test\n",
       "\n",
       "data:  Q3 and Q5\n",
       "t = -10.208, df = 499, p-value < 2.2e-16\n",
       "alternative hypothesis: true difference in means is not equal to 0\n",
       "95 percent confidence interval:\n",
       " -0.6033848 -0.4086152\n",
       "sample estimates:\n",
       "mean of the differences \n",
       "                 -0.506 \n"
      ]
     },
     "metadata": {},
     "output_type": "display_data"
    }
   ],
   "source": [
    "t.test(Q3, Q5, mu=0, alt=\"two.sided\", paired=T, conf.level=0.95)"
   ]
  },
  {
   "cell_type": "code",
   "execution_count": 53,
   "metadata": {},
   "outputs": [
    {
     "data": {
      "text/plain": [
       "\n",
       "\tPaired t-test\n",
       "\n",
       "data:  Q3 and Q6\n",
       "t = -8.6079, df = 499, p-value < 2.2e-16\n",
       "alternative hypothesis: true difference in means is not equal to 0\n",
       "95 percent confidence interval:\n",
       " -0.7590569 -0.4769431\n",
       "sample estimates:\n",
       "mean of the differences \n",
       "                 -0.618 \n"
      ]
     },
     "metadata": {},
     "output_type": "display_data"
    }
   ],
   "source": [
    "t.test(Q3, Q6, mu=0, alt=\"two.sided\", paired=T, conf.level=0.95)"
   ]
  },
  {
   "cell_type": "code",
   "execution_count": 54,
   "metadata": {},
   "outputs": [
    {
     "data": {
      "text/plain": [
       "\n",
       "\tPaired t-test\n",
       "\n",
       "data:  Q3 and Q7\n",
       "t = -32.008, df = 499, p-value < 2.2e-16\n",
       "alternative hypothesis: true difference in means is not equal to 0\n",
       "95 percent confidence interval:\n",
       " -2.32018 -2.05182\n",
       "sample estimates:\n",
       "mean of the differences \n",
       "                 -2.186 \n"
      ]
     },
     "metadata": {},
     "output_type": "display_data"
    }
   ],
   "source": [
    "t.test(Q3, Q7, mu=0, alt=\"two.sided\", paired=T, conf.level=0.95)"
   ]
  },
  {
   "cell_type": "code",
   "execution_count": 55,
   "metadata": {},
   "outputs": [
    {
     "data": {
      "text/plain": [
       "\n",
       "\tPaired t-test\n",
       "\n",
       "data:  Q3 and Q8\n",
       "t = -7.5851, df = 499, p-value = 1.638e-13\n",
       "alternative hypothesis: true difference in means is not equal to 0\n",
       "95 percent confidence interval:\n",
       " -0.5464168 -0.3215832\n",
       "sample estimates:\n",
       "mean of the differences \n",
       "                 -0.434 \n"
      ]
     },
     "metadata": {},
     "output_type": "display_data"
    }
   ],
   "source": [
    "t.test(Q3, Q8, mu=0, alt=\"two.sided\", paired=T, conf.level=0.95)"
   ]
  },
  {
   "cell_type": "code",
   "execution_count": 56,
   "metadata": {},
   "outputs": [
    {
     "data": {
      "text/plain": [
       "\n",
       "\tPaired t-test\n",
       "\n",
       "data:  Q3 and Q9\n",
       "t = -8.3587, df = 499, p-value = 6.35e-16\n",
       "alternative hypothesis: true difference in means is not equal to 0\n",
       "95 percent confidence interval:\n",
       " -0.5409526 -0.3350474\n",
       "sample estimates:\n",
       "mean of the differences \n",
       "                 -0.438 \n"
      ]
     },
     "metadata": {},
     "output_type": "display_data"
    }
   ],
   "source": [
    "t.test(Q3, Q9, mu=0, alt=\"two.sided\", paired=T, conf.level=0.95)"
   ]
  },
  {
   "cell_type": "code",
   "execution_count": 57,
   "metadata": {},
   "outputs": [
    {
     "data": {
      "text/plain": [
       "\n",
       "\tPaired t-test\n",
       "\n",
       "data:  Q3 and Q10\n",
       "t = -9.8867, df = 499, p-value < 2.2e-16\n",
       "alternative hypothesis: true difference in means is not equal to 0\n",
       "95 percent confidence interval:\n",
       " -0.7264275 -0.4855725\n",
       "sample estimates:\n",
       "mean of the differences \n",
       "                 -0.606 \n"
      ]
     },
     "metadata": {},
     "output_type": "display_data"
    }
   ],
   "source": [
    "t.test(Q3, Q10, mu=0, alt=\"two.sided\", paired=T, conf.level=0.95)"
   ]
  },
  {
   "cell_type": "code",
   "execution_count": 58,
   "metadata": {},
   "outputs": [
    {
     "data": {
      "text/plain": [
       "\n",
       "\tPaired t-test\n",
       "\n",
       "data:  Q3 and Q11\n",
       "t = -1, df = 499, p-value = 0.3178\n",
       "alternative hypothesis: true difference in means is not equal to 0\n",
       "95 percent confidence interval:\n",
       " -0.16009539  0.05209539\n",
       "sample estimates:\n",
       "mean of the differences \n",
       "                 -0.054 \n"
      ]
     },
     "metadata": {},
     "output_type": "display_data"
    }
   ],
   "source": [
    "t.test(Q3, Q11, mu=0, alt=\"two.sided\", paired=T, conf.level=0.95)"
   ]
  },
  {
   "cell_type": "code",
   "execution_count": 59,
   "metadata": {},
   "outputs": [
    {
     "data": {
      "text/plain": [
       "\n",
       "\tPaired t-test\n",
       "\n",
       "data:  Q3 and Q12\n",
       "t = -1.6638, df = 499, p-value = 0.09677\n",
       "alternative hypothesis: true difference in means is not equal to 0\n",
       "95 percent confidence interval:\n",
       " -0.17446699  0.01446699\n",
       "sample estimates:\n",
       "mean of the differences \n",
       "                  -0.08 \n"
      ]
     },
     "metadata": {},
     "output_type": "display_data"
    }
   ],
   "source": [
    "t.test(Q3, Q12, mu=0, alt=\"two.sided\", paired=T, conf.level=0.95)"
   ]
  },
  {
   "cell_type": "code",
   "execution_count": 60,
   "metadata": {},
   "outputs": [
    {
     "data": {
      "text/plain": [
       "\n",
       "\tPaired t-test\n",
       "\n",
       "data:  Q4 and Q5\n",
       "t = -2.849, df = 499, p-value = 0.004567\n",
       "alternative hypothesis: true difference in means is not equal to 0\n",
       "95 percent confidence interval:\n",
       " -0.17909999 -0.03290001\n",
       "sample estimates:\n",
       "mean of the differences \n",
       "                 -0.106 \n"
      ]
     },
     "metadata": {},
     "output_type": "display_data"
    }
   ],
   "source": [
    "t.test(Q4, Q5, mu=0, alt=\"two.sided\", paired=T, conf.level=0.95)"
   ]
  },
  {
   "cell_type": "code",
   "execution_count": 61,
   "metadata": {},
   "outputs": [
    {
     "data": {
      "text/plain": [
       "\n",
       "\tPaired t-test\n",
       "\n",
       "data:  Q4 and Q6\n",
       "t = -3.0833, df = 499, p-value = 0.00216\n",
       "alternative hypothesis: true difference in means is not equal to 0\n",
       "95 percent confidence interval:\n",
       " -0.35691276 -0.07908724\n",
       "sample estimates:\n",
       "mean of the differences \n",
       "                 -0.218 \n"
      ]
     },
     "metadata": {},
     "output_type": "display_data"
    }
   ],
   "source": [
    "t.test(Q4, Q6, mu=0, alt=\"two.sided\", paired=T, conf.level=0.95)"
   ]
  },
  {
   "cell_type": "code",
   "execution_count": 62,
   "metadata": {},
   "outputs": [
    {
     "data": {
      "text/plain": [
       "\n",
       "\tPaired t-test\n",
       "\n",
       "data:  Q4 and Q7\n",
       "t = -26.775, df = 499, p-value < 2.2e-16\n",
       "alternative hypothesis: true difference in means is not equal to 0\n",
       "95 percent confidence interval:\n",
       " -1.917054 -1.654946\n",
       "sample estimates:\n",
       "mean of the differences \n",
       "                 -1.786 \n"
      ]
     },
     "metadata": {},
     "output_type": "display_data"
    }
   ],
   "source": [
    "t.test(Q4, Q7, mu=0, alt=\"two.sided\", paired=T, conf.level=0.95)"
   ]
  },
  {
   "cell_type": "code",
   "execution_count": 63,
   "metadata": {},
   "outputs": [
    {
     "data": {
      "text/plain": [
       "\n",
       "\tPaired t-test\n",
       "\n",
       "data:  Q4 and Q8\n",
       "t = -0.56039, df = 499, p-value = 0.5755\n",
       "alternative hypothesis: true difference in means is not equal to 0\n",
       "95 percent confidence interval:\n",
       " -0.15320339  0.08520339\n",
       "sample estimates:\n",
       "mean of the differences \n",
       "                 -0.034 \n"
      ]
     },
     "metadata": {},
     "output_type": "display_data"
    }
   ],
   "source": [
    "t.test(Q4, Q8, mu=0, alt=\"two.sided\", paired=T, conf.level=0.95)"
   ]
  },
  {
   "cell_type": "code",
   "execution_count": 64,
   "metadata": {},
   "outputs": [
    {
     "data": {
      "text/plain": [
       "\n",
       "\tPaired t-test\n",
       "\n",
       "data:  Q4 and Q9\n",
       "t = -0.76212, df = 499, p-value = 0.4463\n",
       "alternative hypothesis: true difference in means is not equal to 0\n",
       "95 percent confidence interval:\n",
       " -0.13596268  0.05996268\n",
       "sample estimates:\n",
       "mean of the differences \n",
       "                 -0.038 \n"
      ]
     },
     "metadata": {},
     "output_type": "display_data"
    }
   ],
   "source": [
    "t.test(Q4, Q9, mu=0, alt=\"two.sided\", paired=T, conf.level=0.95)"
   ]
  },
  {
   "cell_type": "code",
   "execution_count": 65,
   "metadata": {},
   "outputs": [
    {
     "data": {
      "text/plain": [
       "\n",
       "\tPaired t-test\n",
       "\n",
       "data:  Q4 and Q10\n",
       "t = -3.6294, df = 499, p-value = 0.0003134\n",
       "alternative hypothesis: true difference in means is not equal to 0\n",
       "95 percent confidence interval:\n",
       " -0.31751585 -0.09448415\n",
       "sample estimates:\n",
       "mean of the differences \n",
       "                 -0.206 \n"
      ]
     },
     "metadata": {},
     "output_type": "display_data"
    }
   ],
   "source": [
    "t.test(Q4, Q10, mu=0, alt=\"two.sided\", paired=T, conf.level=0.95)"
   ]
  },
  {
   "cell_type": "code",
   "execution_count": 66,
   "metadata": {},
   "outputs": [
    {
     "data": {
      "text/plain": [
       "\n",
       "\tPaired t-test\n",
       "\n",
       "data:  Q4 and Q11\n",
       "t = 6.5084, df = 499, p-value = 1.852e-10\n",
       "alternative hypothesis: true difference in means is not equal to 0\n",
       "95 percent confidence interval:\n",
       " 0.2415506 0.4504494\n",
       "sample estimates:\n",
       "mean of the differences \n",
       "                  0.346 \n"
      ]
     },
     "metadata": {},
     "output_type": "display_data"
    }
   ],
   "source": [
    "t.test(Q4, Q11, mu=0, alt=\"two.sided\", paired=T, conf.level=0.95)"
   ]
  },
  {
   "cell_type": "code",
   "execution_count": 67,
   "metadata": {},
   "outputs": [
    {
     "data": {
      "text/plain": [
       "\n",
       "\tPaired t-test\n",
       "\n",
       "data:  Q4 and Q12\n",
       "t = 6.5984, df = 499, p-value = 1.063e-10\n",
       "alternative hypothesis: true difference in means is not equal to 0\n",
       "95 percent confidence interval:\n",
       " 0.2247176 0.4152824\n",
       "sample estimates:\n",
       "mean of the differences \n",
       "                   0.32 \n"
      ]
     },
     "metadata": {},
     "output_type": "display_data"
    }
   ],
   "source": [
    "t.test(Q4, Q12, mu=0, alt=\"two.sided\", paired=T, conf.level=0.95)"
   ]
  },
  {
   "cell_type": "code",
   "execution_count": 68,
   "metadata": {},
   "outputs": [
    {
     "data": {
      "text/plain": [
       "\n",
       "\tPaired t-test\n",
       "\n",
       "data:  Q5 and Q6\n",
       "t = -1.5127, df = 499, p-value = 0.131\n",
       "alternative hypothesis: true difference in means is not equal to 0\n",
       "95 percent confidence interval:\n",
       " -0.25746796  0.03346796\n",
       "sample estimates:\n",
       "mean of the differences \n",
       "                 -0.112 \n"
      ]
     },
     "metadata": {},
     "output_type": "display_data"
    }
   ],
   "source": [
    "t.test(Q5, Q6, mu=0, alt=\"two.sided\", paired=T, conf.level=0.95)"
   ]
  },
  {
   "cell_type": "code",
   "execution_count": 69,
   "metadata": {},
   "outputs": [
    {
     "data": {
      "text/plain": [
       "\n",
       "\tPaired t-test\n",
       "\n",
       "data:  Q5 and Q7\n",
       "t = -24.63, df = 499, p-value < 2.2e-16\n",
       "alternative hypothesis: true difference in means is not equal to 0\n",
       "95 percent confidence interval:\n",
       " -1.814013 -1.545987\n",
       "sample estimates:\n",
       "mean of the differences \n",
       "                  -1.68 \n"
      ]
     },
     "metadata": {},
     "output_type": "display_data"
    }
   ],
   "source": [
    "t.test(Q5, Q7, mu=0, alt=\"two.sided\", paired=T, conf.level=0.95)"
   ]
  },
  {
   "cell_type": "code",
   "execution_count": 70,
   "metadata": {},
   "outputs": [
    {
     "data": {
      "text/plain": [
       "\n",
       "\tPaired t-test\n",
       "\n",
       "data:  Q5 and Q8\n",
       "t = 1.181, df = 499, p-value = 0.2382\n",
       "alternative hypothesis: true difference in means is not equal to 0\n",
       "95 percent confidence interval:\n",
       " -0.04778512  0.19178512\n",
       "sample estimates:\n",
       "mean of the differences \n",
       "                  0.072 \n"
      ]
     },
     "metadata": {},
     "output_type": "display_data"
    }
   ],
   "source": [
    "t.test(Q5, Q8, mu=0, alt=\"two.sided\", paired=T, conf.level=0.95)"
   ]
  },
  {
   "cell_type": "code",
   "execution_count": 71,
   "metadata": {},
   "outputs": [
    {
     "data": {
      "text/plain": [
       "\n",
       "\tPaired t-test\n",
       "\n",
       "data:  Q5 and Q9\n",
       "t = 1.3451, df = 499, p-value = 0.1792\n",
       "alternative hypothesis: true difference in means is not equal to 0\n",
       "95 percent confidence interval:\n",
       " -0.03132798  0.16732798\n",
       "sample estimates:\n",
       "mean of the differences \n",
       "                  0.068 \n"
      ]
     },
     "metadata": {},
     "output_type": "display_data"
    }
   ],
   "source": [
    "t.test(Q5, Q9, mu=0, alt=\"two.sided\", paired=T, conf.level=0.95)"
   ]
  },
  {
   "cell_type": "code",
   "execution_count": 72,
   "metadata": {},
   "outputs": [
    {
     "data": {
      "text/plain": [
       "\n",
       "\tPaired t-test\n",
       "\n",
       "data:  Q5 and Q10\n",
       "t = -1.6848, df = 499, p-value = 0.09266\n",
       "alternative hypothesis: true difference in means is not equal to 0\n",
       "95 percent confidence interval:\n",
       " -0.21661701  0.01661701\n",
       "sample estimates:\n",
       "mean of the differences \n",
       "                   -0.1 \n"
      ]
     },
     "metadata": {},
     "output_type": "display_data"
    }
   ],
   "source": [
    "t.test(Q5, Q10, mu=0, alt=\"two.sided\", paired=T, conf.level=0.95)"
   ]
  },
  {
   "cell_type": "code",
   "execution_count": 73,
   "metadata": {},
   "outputs": [
    {
     "data": {
      "text/plain": [
       "\n",
       "\tPaired t-test\n",
       "\n",
       "data:  Q5 and Q11\n",
       "t = 7.8186, df = 499, p-value = 3.197e-14\n",
       "alternative hypothesis: true difference in means is not equal to 0\n",
       "95 percent confidence interval:\n",
       " 0.3384176 0.5655824\n",
       "sample estimates:\n",
       "mean of the differences \n",
       "                  0.452 \n"
      ]
     },
     "metadata": {},
     "output_type": "display_data"
    }
   ],
   "source": [
    "t.test(Q5, Q11, mu=0, alt=\"two.sided\", paired=T, conf.level=0.95)"
   ]
  },
  {
   "cell_type": "code",
   "execution_count": 74,
   "metadata": {},
   "outputs": [
    {
     "data": {
      "text/plain": [
       "\n",
       "\tPaired t-test\n",
       "\n",
       "data:  Q5 and Q12\n",
       "t = 8.0296, df = 499, p-value = 7.077e-15\n",
       "alternative hypothesis: true difference in means is not equal to 0\n",
       "95 percent confidence interval:\n",
       " 0.3217642 0.5302358\n",
       "sample estimates:\n",
       "mean of the differences \n",
       "                  0.426 \n"
      ]
     },
     "metadata": {},
     "output_type": "display_data"
    }
   ],
   "source": [
    "t.test(Q5, Q12, mu=0, alt=\"two.sided\", paired=T, conf.level=0.95)"
   ]
  },
  {
   "cell_type": "code",
   "execution_count": 75,
   "metadata": {},
   "outputs": [
    {
     "data": {
      "text/plain": [
       "\n",
       "\tPaired t-test\n",
       "\n",
       "data:  Q6 and Q7\n",
       "t = -20.272, df = 499, p-value < 2.2e-16\n",
       "alternative hypothesis: true difference in means is not equal to 0\n",
       "95 percent confidence interval:\n",
       " -1.719968 -1.416032\n",
       "sample estimates:\n",
       "mean of the differences \n",
       "                 -1.568 \n"
      ]
     },
     "metadata": {},
     "output_type": "display_data"
    }
   ],
   "source": [
    "t.test(Q6, Q7, mu=0, alt=\"two.sided\", paired=T, conf.level=0.95)"
   ]
  },
  {
   "cell_type": "code",
   "execution_count": 76,
   "metadata": {},
   "outputs": [
    {
     "data": {
      "text/plain": [
       "\n",
       "\tPaired t-test\n",
       "\n",
       "data:  Q6 and Q8\n",
       "t = 2.2258, df = 499, p-value = 0.02648\n",
       "alternative hypothesis: true difference in means is not equal to 0\n",
       "95 percent confidence interval:\n",
       " 0.02158025 0.34641975\n",
       "sample estimates:\n",
       "mean of the differences \n",
       "                  0.184 \n"
      ]
     },
     "metadata": {},
     "output_type": "display_data"
    }
   ],
   "source": [
    "t.test(Q6, Q8, mu=0, alt=\"two.sided\", paired=T, conf.level=0.95)"
   ]
  },
  {
   "cell_type": "code",
   "execution_count": 77,
   "metadata": {},
   "outputs": [
    {
     "data": {
      "text/plain": [
       "\n",
       "\tPaired t-test\n",
       "\n",
       "data:  Q6 and Q9\n",
       "t = 2.3468, df = 499, p-value = 0.01933\n",
       "alternative hypothesis: true difference in means is not equal to 0\n",
       "95 percent confidence interval:\n",
       " 0.02930428 0.33069572\n",
       "sample estimates:\n",
       "mean of the differences \n",
       "                   0.18 \n"
      ]
     },
     "metadata": {},
     "output_type": "display_data"
    }
   ],
   "source": [
    "t.test(Q6, Q9, mu=0, alt=\"two.sided\", paired=T, conf.level=0.95)"
   ]
  },
  {
   "cell_type": "code",
   "execution_count": 78,
   "metadata": {},
   "outputs": [
    {
     "data": {
      "text/plain": [
       "\n",
       "\tPaired t-test\n",
       "\n",
       "data:  Q6 and Q10\n",
       "t = 0.16031, df = 499, p-value = 0.8727\n",
       "alternative hypothesis: true difference in means is not equal to 0\n",
       "95 percent confidence interval:\n",
       " -0.1350652  0.1590652\n",
       "sample estimates:\n",
       "mean of the differences \n",
       "                  0.012 \n"
      ]
     },
     "metadata": {},
     "output_type": "display_data"
    }
   ],
   "source": [
    "t.test(Q6, Q10, mu=0, alt=\"two.sided\", paired=T, conf.level=0.95)"
   ]
  },
  {
   "cell_type": "code",
   "execution_count": 79,
   "metadata": {},
   "outputs": [
    {
     "data": {
      "text/plain": [
       "\n",
       "\tPaired t-test\n",
       "\n",
       "data:  Q6 and Q11\n",
       "t = 8.2327, df = 499, p-value = 1.611e-15\n",
       "alternative hypothesis: true difference in means is not equal to 0\n",
       "95 percent confidence interval:\n",
       " 0.4294025 0.6985975\n",
       "sample estimates:\n",
       "mean of the differences \n",
       "                  0.564 \n"
      ]
     },
     "metadata": {},
     "output_type": "display_data"
    }
   ],
   "source": [
    "t.test(Q6, Q11, mu=0, alt=\"two.sided\", paired=T, conf.level=0.95)"
   ]
  },
  {
   "cell_type": "code",
   "execution_count": 80,
   "metadata": {},
   "outputs": [
    {
     "data": {
      "text/plain": [
       "\n",
       "\tPaired t-test\n",
       "\n",
       "data:  Q6 and Q12\n",
       "t = 7.3569, df = 499, p-value = 7.792e-13\n",
       "alternative hypothesis: true difference in means is not equal to 0\n",
       "95 percent confidence interval:\n",
       " 0.3943219 0.6816781\n",
       "sample estimates:\n",
       "mean of the differences \n",
       "                  0.538 \n"
      ]
     },
     "metadata": {},
     "output_type": "display_data"
    }
   ],
   "source": [
    "t.test(Q6, Q12, mu=0, alt=\"two.sided\", paired=T, conf.level=0.95)"
   ]
  },
  {
   "cell_type": "code",
   "execution_count": 81,
   "metadata": {},
   "outputs": [
    {
     "data": {
      "text/plain": [
       "\n",
       "\tPaired t-test\n",
       "\n",
       "data:  Q7 and Q8\n",
       "t = 24.564, df = 499, p-value < 2.2e-16\n",
       "alternative hypothesis: true difference in means is not equal to 0\n",
       "95 percent confidence interval:\n",
       " 1.611867 1.892133\n",
       "sample estimates:\n",
       "mean of the differences \n",
       "                  1.752 \n"
      ]
     },
     "metadata": {},
     "output_type": "display_data"
    }
   ],
   "source": [
    "t.test(Q7, Q8, mu=0, alt=\"two.sided\", paired=T, conf.level=0.95)"
   ]
  },
  {
   "cell_type": "code",
   "execution_count": 82,
   "metadata": {},
   "outputs": [
    {
     "data": {
      "text/plain": [
       "\n",
       "\tPaired t-test\n",
       "\n",
       "data:  Q7 and Q9\n",
       "t = 25.287, df = 499, p-value < 2.2e-16\n",
       "alternative hypothesis: true difference in means is not equal to 0\n",
       "95 percent confidence interval:\n",
       " 1.612184 1.883816\n",
       "sample estimates:\n",
       "mean of the differences \n",
       "                  1.748 \n"
      ]
     },
     "metadata": {},
     "output_type": "display_data"
    }
   ],
   "source": [
    "t.test(Q7, Q9, mu=0, alt=\"two.sided\", paired=T, conf.level=0.95)"
   ]
  },
  {
   "cell_type": "code",
   "execution_count": 83,
   "metadata": {},
   "outputs": [
    {
     "data": {
      "text/plain": [
       "\n",
       "\tPaired t-test\n",
       "\n",
       "data:  Q7 and Q10\n",
       "t = 22.36, df = 499, p-value < 2.2e-16\n",
       "alternative hypothesis: true difference in means is not equal to 0\n",
       "95 percent confidence interval:\n",
       " 1.441167 1.718833\n",
       "sample estimates:\n",
       "mean of the differences \n",
       "                   1.58 \n"
      ]
     },
     "metadata": {},
     "output_type": "display_data"
    }
   ],
   "source": [
    "t.test(Q7, Q10, mu=0, alt=\"two.sided\", paired=T, conf.level=0.95)"
   ]
  },
  {
   "cell_type": "code",
   "execution_count": 84,
   "metadata": {},
   "outputs": [
    {
     "data": {
      "text/plain": [
       "\n",
       "\tPaired t-test\n",
       "\n",
       "data:  Q7 and Q11\n",
       "t = 30.324, df = 499, p-value < 2.2e-16\n",
       "alternative hypothesis: true difference in means is not equal to 0\n",
       "95 percent confidence interval:\n",
       " 1.993866 2.270134\n",
       "sample estimates:\n",
       "mean of the differences \n",
       "                  2.132 \n"
      ]
     },
     "metadata": {},
     "output_type": "display_data"
    }
   ],
   "source": [
    "t.test(Q7, Q11, mu=0, alt=\"two.sided\", paired=T, conf.level=0.95)"
   ]
  },
  {
   "cell_type": "code",
   "execution_count": 85,
   "metadata": {},
   "outputs": [
    {
     "data": {
      "text/plain": [
       "\n",
       "\tPaired t-test\n",
       "\n",
       "data:  Q7 and Q12\n",
       "t = 30.249, df = 499, p-value < 2.2e-16\n",
       "alternative hypothesis: true difference in means is not equal to 0\n",
       "95 percent confidence interval:\n",
       " 1.969212 2.242788\n",
       "sample estimates:\n",
       "mean of the differences \n",
       "                  2.106 \n"
      ]
     },
     "metadata": {},
     "output_type": "display_data"
    }
   ],
   "source": [
    "t.test(Q7, Q12, mu=0, alt=\"two.sided\", paired=T, conf.level=0.95)"
   ]
  },
  {
   "cell_type": "code",
   "execution_count": 86,
   "metadata": {},
   "outputs": [
    {
     "data": {
      "text/plain": [
       "\n",
       "\tPaired t-test\n",
       "\n",
       "data:  Q8 and Q9\n",
       "t = -0.07238, df = 499, p-value = 0.9423\n",
       "alternative hypothesis: true difference in means is not equal to 0\n",
       "95 percent confidence interval:\n",
       " -0.1125782  0.1045782\n",
       "sample estimates:\n",
       "mean of the differences \n",
       "                 -0.004 \n"
      ]
     },
     "metadata": {},
     "output_type": "display_data"
    }
   ],
   "source": [
    "t.test(Q8, Q9, mu=0, alt=\"two.sided\", paired=T, conf.level=0.95)"
   ]
  },
  {
   "cell_type": "code",
   "execution_count": 87,
   "metadata": {},
   "outputs": [
    {
     "data": {
      "text/plain": [
       "\n",
       "\tPaired t-test\n",
       "\n",
       "data:  Q8 and Q10\n",
       "t = -2.7399, df = 499, p-value = 0.006365\n",
       "alternative hypothesis: true difference in means is not equal to 0\n",
       "95 percent confidence interval:\n",
       " -0.29533609 -0.04866391\n",
       "sample estimates:\n",
       "mean of the differences \n",
       "                 -0.172 \n"
      ]
     },
     "metadata": {},
     "output_type": "display_data"
    }
   ],
   "source": [
    "t.test(Q8, Q10, mu=0, alt=\"two.sided\", paired=T, conf.level=0.95)"
   ]
  },
  {
   "cell_type": "code",
   "execution_count": 88,
   "metadata": {},
   "outputs": [
    {
     "data": {
      "text/plain": [
       "\n",
       "\tPaired t-test\n",
       "\n",
       "data:  Q8 and Q11\n",
       "t = 6.356, df = 499, p-value = 4.676e-10\n",
       "alternative hypothesis: true difference in means is not equal to 0\n",
       "95 percent confidence interval:\n",
       " 0.262537 0.497463\n",
       "sample estimates:\n",
       "mean of the differences \n",
       "                   0.38 \n"
      ]
     },
     "metadata": {},
     "output_type": "display_data"
    }
   ],
   "source": [
    "t.test(Q8, Q11, mu=0, alt=\"two.sided\", paired=T, conf.level=0.95)"
   ]
  },
  {
   "cell_type": "code",
   "execution_count": 89,
   "metadata": {},
   "outputs": [
    {
     "data": {
      "text/plain": [
       "\n",
       "\tPaired t-test\n",
       "\n",
       "data:  Q8 and Q12\n",
       "t = 6.6626, df = 499, p-value = 7.127e-11\n",
       "alternative hypothesis: true difference in means is not equal to 0\n",
       "95 percent confidence interval:\n",
       " 0.2496099 0.4583901\n",
       "sample estimates:\n",
       "mean of the differences \n",
       "                  0.354 \n"
      ]
     },
     "metadata": {},
     "output_type": "display_data"
    }
   ],
   "source": [
    "t.test(Q8, Q12, mu=0, alt=\"two.sided\", paired=T, conf.level=0.95)"
   ]
  },
  {
   "cell_type": "code",
   "execution_count": 90,
   "metadata": {},
   "outputs": [
    {
     "data": {
      "text/plain": [
       "\n",
       "\tPaired t-test\n",
       "\n",
       "data:  Q9 and Q10\n",
       "t = -3.8307, df = 499, p-value = 0.0001441\n",
       "alternative hypothesis: true difference in means is not equal to 0\n",
       "95 percent confidence interval:\n",
       " -0.25416629 -0.08183371\n",
       "sample estimates:\n",
       "mean of the differences \n",
       "                 -0.168 \n"
      ]
     },
     "metadata": {},
     "output_type": "display_data"
    }
   ],
   "source": [
    "t.test(Q9, Q10, mu=0, alt=\"two.sided\", paired=T, conf.level=0.95)"
   ]
  },
  {
   "cell_type": "code",
   "execution_count": 91,
   "metadata": {},
   "outputs": [
    {
     "data": {
      "text/plain": [
       "\n",
       "\tPaired t-test\n",
       "\n",
       "data:  Q9 and Q11\n",
       "t = 7.3325, df = 499, p-value = 9.185e-13\n",
       "alternative hypothesis: true difference in means is not equal to 0\n",
       "95 percent confidence interval:\n",
       " 0.2811079 0.4868921\n",
       "sample estimates:\n",
       "mean of the differences \n",
       "                  0.384 \n"
      ]
     },
     "metadata": {},
     "output_type": "display_data"
    }
   ],
   "source": [
    "t.test(Q9, Q11, mu=0, alt=\"two.sided\", paired=T, conf.level=0.95)"
   ]
  },
  {
   "cell_type": "code",
   "execution_count": 92,
   "metadata": {},
   "outputs": [
    {
     "data": {
      "text/plain": [
       "\n",
       "\tPaired t-test\n",
       "\n",
       "data:  Q9 and Q12\n",
       "t = 8.2229, df = 499, p-value = 1.732e-15\n",
       "alternative hypothesis: true difference in means is not equal to 0\n",
       "95 percent confidence interval:\n",
       " 0.2724617 0.4435383\n",
       "sample estimates:\n",
       "mean of the differences \n",
       "                  0.358 \n"
      ]
     },
     "metadata": {},
     "output_type": "display_data"
    }
   ],
   "source": [
    "t.test(Q9, Q12, mu=0, alt=\"two.sided\", paired=T, conf.level=0.95)"
   ]
  },
  {
   "cell_type": "code",
   "execution_count": 93,
   "metadata": {},
   "outputs": [
    {
     "data": {
      "text/plain": [
       "\n",
       "\tPaired t-test\n",
       "\n",
       "data:  Q10 and Q11\n",
       "t = 11.413, df = 499, p-value < 2.2e-16\n",
       "alternative hypothesis: true difference in means is not equal to 0\n",
       "95 percent confidence interval:\n",
       " 0.4569739 0.6470261\n",
       "sample estimates:\n",
       "mean of the differences \n",
       "                  0.552 \n"
      ]
     },
     "metadata": {},
     "output_type": "display_data"
    }
   ],
   "source": [
    "t.test(Q10, Q11, mu=0, alt=\"two.sided\", paired=T, conf.level=0.95)"
   ]
  },
  {
   "cell_type": "code",
   "execution_count": 94,
   "metadata": {},
   "outputs": [
    {
     "data": {
      "text/plain": [
       "\n",
       "\tPaired t-test\n",
       "\n",
       "data:  Q10 and Q12\n",
       "t = 10.792, df = 499, p-value < 2.2e-16\n",
       "alternative hypothesis: true difference in means is not equal to 0\n",
       "95 percent confidence interval:\n",
       " 0.4302429 0.6217571\n",
       "sample estimates:\n",
       "mean of the differences \n",
       "                  0.526 \n"
      ]
     },
     "metadata": {},
     "output_type": "display_data"
    }
   ],
   "source": [
    "t.test(Q10, Q12, mu=0, alt=\"two.sided\", paired=T, conf.level=0.95)"
   ]
  },
  {
   "cell_type": "code",
   "execution_count": 95,
   "metadata": {},
   "outputs": [
    {
     "data": {
      "text/plain": [
       "\n",
       "\tPaired t-test\n",
       "\n",
       "data:  Q11 and Q12\n",
       "t = -0.66739, df = 499, p-value = 0.5048\n",
       "alternative hypothesis: true difference in means is not equal to 0\n",
       "95 percent confidence interval:\n",
       " -0.10254086  0.05054086\n",
       "sample estimates:\n",
       "mean of the differences \n",
       "                 -0.026 \n"
      ]
     },
     "metadata": {},
     "output_type": "display_data"
    }
   ],
   "source": [
    "t.test(Q11, Q12, mu=0, alt=\"two.sided\", paired=T, conf.level=0.95)"
   ]
  },
  {
   "cell_type": "markdown",
   "metadata": {},
   "source": [
    "**Pada *Paired T-Test* diatas jika Probabilitas* (p-value) > 0.05 maka tidak terdapat perbedaan antara pertanyaan. dan jika Probabilitas (p-value) < 0.05 maka ada perbedaan antara kedua pertanyaan.**"
   ]
  },
  {
   "cell_type": "markdown",
   "metadata": {},
   "source": [
    "---"
   ]
  },
  {
   "cell_type": "markdown",
   "metadata": {},
   "source": [
    "## 2.3. Principal Component Analysis"
   ]
  },
  {
   "cell_type": "code",
   "execution_count": 96,
   "metadata": {},
   "outputs": [
    {
     "data": {
      "text/html": [
       "<table>\n",
       "<thead><tr><th scope=col>Q1</th><th scope=col>Q2</th><th scope=col>Q3</th><th scope=col>Q4</th><th scope=col>Q5</th><th scope=col>Q6</th><th scope=col>Q7</th><th scope=col>Q8</th><th scope=col>Q9</th><th scope=col>Q10</th><th scope=col>Q11</th><th scope=col>Q12</th></tr></thead>\n",
       "<tbody>\n",
       "\t<tr><td>3</td><td>2</td><td>2</td><td>1</td><td>1</td><td>3</td><td>5</td><td>1</td><td>1</td><td>1</td><td>1</td><td>1</td></tr>\n",
       "\t<tr><td>1</td><td>2</td><td>2</td><td>1</td><td>1</td><td>3</td><td>5</td><td>1</td><td>1</td><td>1</td><td>1</td><td>1</td></tr>\n",
       "\t<tr><td>1</td><td>2</td><td>1</td><td>3</td><td>2</td><td>5</td><td>4</td><td>4</td><td>3</td><td>3</td><td>1</td><td>1</td></tr>\n",
       "\t<tr><td>4</td><td>2</td><td>1</td><td>2</td><td>2</td><td>5</td><td>4</td><td>1</td><td>1</td><td>3</td><td>1</td><td>1</td></tr>\n",
       "\t<tr><td>3</td><td>2</td><td>1</td><td>1</td><td>1</td><td>5</td><td>1</td><td>1</td><td>1</td><td>1</td><td>1</td><td>1</td></tr>\n",
       "\t<tr><td>1</td><td>2</td><td>2</td><td>2</td><td>4</td><td>4</td><td>5</td><td>4</td><td>3</td><td>1</td><td>1</td><td>1</td></tr>\n",
       "\t<tr><td>1</td><td>4</td><td>2</td><td>3</td><td>4</td><td>4</td><td>4</td><td>1</td><td>2</td><td>2</td><td>1</td><td>1</td></tr>\n",
       "\t<tr><td>1</td><td>1</td><td>1</td><td>2</td><td>1</td><td>5</td><td>1</td><td>1</td><td>1</td><td>1</td><td>1</td><td>1</td></tr>\n",
       "\t<tr><td>4</td><td>2</td><td>3</td><td>2</td><td>3</td><td>5</td><td>2</td><td>1</td><td>3</td><td>3</td><td>1</td><td>3</td></tr>\n",
       "\t<tr><td>1</td><td>4</td><td>1</td><td>2</td><td>1</td><td>3</td><td>4</td><td>1</td><td>1</td><td>3</td><td>3</td><td>2</td></tr>\n",
       "\t<tr><td>3</td><td>3</td><td>1</td><td>4</td><td>4</td><td>5</td><td>4</td><td>4</td><td>3</td><td>3</td><td>2</td><td>2</td></tr>\n",
       "\t<tr><td>4</td><td>2</td><td>1</td><td>1</td><td>2</td><td>4</td><td>5</td><td>1</td><td>3</td><td>3</td><td>1</td><td>1</td></tr>\n",
       "\t<tr><td>1</td><td>2</td><td>1</td><td>1</td><td>1</td><td>4</td><td>4</td><td>4</td><td>1</td><td>2</td><td>1</td><td>1</td></tr>\n",
       "\t<tr><td>1</td><td>1</td><td>1</td><td>1</td><td>1</td><td>3</td><td>4</td><td>1</td><td>1</td><td>1</td><td>1</td><td>1</td></tr>\n",
       "\t<tr><td>4</td><td>4</td><td>1</td><td>1</td><td>4</td><td>2</td><td>4</td><td>5</td><td>1</td><td>4</td><td>4</td><td>4</td></tr>\n",
       "\t<tr><td>3</td><td>2</td><td>1</td><td>2</td><td>2</td><td>1</td><td>5</td><td>4</td><td>4</td><td>4</td><td>1</td><td>3</td></tr>\n",
       "\t<tr><td>1</td><td>2</td><td>1</td><td>2</td><td>2</td><td>2</td><td>4</td><td>1</td><td>1</td><td>1</td><td>1</td><td>1</td></tr>\n",
       "\t<tr><td>1</td><td>1</td><td>1</td><td>2</td><td>2</td><td>1</td><td>4</td><td>1</td><td>1</td><td>1</td><td>1</td><td>1</td></tr>\n",
       "\t<tr><td>3</td><td>1</td><td>1</td><td>1</td><td>1</td><td>3</td><td>3</td><td>4</td><td>1</td><td>4</td><td>4</td><td>3</td></tr>\n",
       "\t<tr><td>3</td><td>1</td><td>1</td><td>1</td><td>1</td><td>3</td><td>3</td><td>4</td><td>1</td><td>4</td><td>4</td><td>3</td></tr>\n",
       "\t<tr><td>1</td><td>2</td><td>2</td><td>3</td><td>2</td><td>3</td><td>4</td><td>1</td><td>3</td><td>4</td><td>3</td><td>1</td></tr>\n",
       "\t<tr><td>1</td><td>2</td><td>1</td><td>2</td><td>2</td><td>3</td><td>4</td><td>1</td><td>1</td><td>4</td><td>1</td><td>1</td></tr>\n",
       "\t<tr><td>1</td><td>2</td><td>4</td><td>2</td><td>3</td><td>3</td><td>5</td><td>5</td><td>3</td><td>3</td><td>1</td><td>1</td></tr>\n",
       "\t<tr><td>4</td><td>4</td><td>5</td><td>4</td><td>4</td><td>4</td><td>5</td><td>5</td><td>3</td><td>4</td><td>2</td><td>3</td></tr>\n",
       "\t<tr><td>1</td><td>1</td><td>1</td><td>1</td><td>1</td><td>5</td><td>5</td><td>1</td><td>1</td><td>1</td><td>1</td><td>1</td></tr>\n",
       "\t<tr><td>3</td><td>3</td><td>1</td><td>2</td><td>2</td><td>5</td><td>4</td><td>1</td><td>1</td><td>1</td><td>1</td><td>1</td></tr>\n",
       "\t<tr><td>3</td><td>3</td><td>1</td><td>2</td><td>2</td><td>2</td><td>3</td><td>4</td><td>2</td><td>3</td><td>4</td><td>3</td></tr>\n",
       "\t<tr><td>3</td><td>2</td><td>3</td><td>2</td><td>2</td><td>2</td><td>4</td><td>4</td><td>3</td><td>4</td><td>1</td><td>3</td></tr>\n",
       "\t<tr><td>3</td><td>2</td><td>3</td><td>2</td><td>2</td><td>2</td><td>4</td><td>4</td><td>3</td><td>3</td><td>1</td><td>3</td></tr>\n",
       "\t<tr><td>4</td><td>4</td><td>3</td><td>4</td><td>3</td><td>3</td><td>3</td><td>5</td><td>3</td><td>3</td><td>3</td><td>3</td></tr>\n",
       "\t<tr><td>...</td><td>...</td><td>...</td><td>...</td><td>...</td><td>...</td><td>...</td><td>...</td><td>...</td><td>...</td><td>...</td><td>...</td></tr>\n",
       "\t<tr><td>5</td><td>4</td><td>3</td><td>4</td><td>4</td><td>2</td><td>5</td><td>5</td><td>4</td><td>5</td><td>3</td><td>4</td></tr>\n",
       "\t<tr><td>3</td><td>3</td><td>2</td><td>3</td><td>3</td><td>2</td><td>3</td><td>1</td><td>1</td><td>1</td><td>1</td><td>1</td></tr>\n",
       "\t<tr><td>1</td><td>1</td><td>1</td><td>1</td><td>1</td><td>1</td><td>5</td><td>1</td><td>1</td><td>1</td><td>1</td><td>1</td></tr>\n",
       "\t<tr><td>1</td><td>1</td><td>1</td><td>1</td><td>1</td><td>2</td><td>4</td><td>1</td><td>1</td><td>1</td><td>1</td><td>1</td></tr>\n",
       "\t<tr><td>1</td><td>1</td><td>1</td><td>1</td><td>3</td><td>3</td><td>5</td><td>1</td><td>1</td><td>1</td><td>1</td><td>1</td></tr>\n",
       "\t<tr><td>1</td><td>1</td><td>1</td><td>2</td><td>2</td><td>3</td><td>1</td><td>1</td><td>1</td><td>1</td><td>1</td><td>1</td></tr>\n",
       "\t<tr><td>3</td><td>2</td><td>1</td><td>3</td><td>3</td><td>2</td><td>4</td><td>1</td><td>1</td><td>1</td><td>1</td><td>1</td></tr>\n",
       "\t<tr><td>1</td><td>1</td><td>1</td><td>1</td><td>1</td><td>2</td><td>5</td><td>1</td><td>1</td><td>1</td><td>1</td><td>1</td></tr>\n",
       "\t<tr><td>1</td><td>1</td><td>1</td><td>3</td><td>3</td><td>3</td><td>4</td><td>1</td><td>1</td><td>1</td><td>1</td><td>1</td></tr>\n",
       "\t<tr><td>1</td><td>1</td><td>1</td><td>2</td><td>2</td><td>3</td><td>2</td><td>1</td><td>1</td><td>1</td><td>1</td><td>1</td></tr>\n",
       "\t<tr><td>4</td><td>3</td><td>2</td><td>4</td><td>4</td><td>2</td><td>5</td><td>3</td><td>3</td><td>4</td><td>3</td><td>3</td></tr>\n",
       "\t<tr><td>3</td><td>3</td><td>3</td><td>2</td><td>2</td><td>3</td><td>5</td><td>3</td><td>1</td><td>1</td><td>1</td><td>1</td></tr>\n",
       "\t<tr><td>4</td><td>2</td><td>1</td><td>2</td><td>3</td><td>2</td><td>4</td><td>4</td><td>4</td><td>3</td><td>1</td><td>1</td></tr>\n",
       "\t<tr><td>1</td><td>1</td><td>1</td><td>1</td><td>1</td><td>3</td><td>5</td><td>1</td><td>1</td><td>1</td><td>1</td><td>1</td></tr>\n",
       "\t<tr><td>3</td><td>3</td><td>2</td><td>2</td><td>2</td><td>2</td><td>4</td><td>4</td><td>3</td><td>3</td><td>3</td><td>3</td></tr>\n",
       "\t<tr><td>1</td><td>1</td><td>1</td><td>1</td><td>1</td><td>2</td><td>2</td><td>1</td><td>1</td><td>1</td><td>1</td><td>1</td></tr>\n",
       "\t<tr><td>1</td><td>1</td><td>1</td><td>1</td><td>1</td><td>3</td><td>4</td><td>1</td><td>1</td><td>1</td><td>1</td><td>1</td></tr>\n",
       "\t<tr><td>1</td><td>1</td><td>1</td><td>1</td><td>1</td><td>1</td><td>1</td><td>1</td><td>1</td><td>1</td><td>1</td><td>1</td></tr>\n",
       "\t<tr><td>3</td><td>3</td><td>3</td><td>3</td><td>3</td><td>3</td><td>2</td><td>3</td><td>3</td><td>3</td><td>3</td><td>3</td></tr>\n",
       "\t<tr><td>2</td><td>2</td><td>2</td><td>1</td><td>1</td><td>2</td><td>4</td><td>5</td><td>1</td><td>1</td><td>1</td><td>1</td></tr>\n",
       "\t<tr><td>1</td><td>1</td><td>1</td><td>1</td><td>1</td><td>3</td><td>4</td><td>1</td><td>1</td><td>1</td><td>1</td><td>1</td></tr>\n",
       "\t<tr><td>1</td><td>1</td><td>1</td><td>1</td><td>1</td><td>3</td><td>2</td><td>1</td><td>1</td><td>1</td><td>1</td><td>1</td></tr>\n",
       "\t<tr><td>1</td><td>1</td><td>1</td><td>1</td><td>1</td><td>2</td><td>5</td><td>1</td><td>1</td><td>1</td><td>1</td><td>1</td></tr>\n",
       "\t<tr><td>3</td><td>3</td><td>2</td><td>2</td><td>2</td><td>2</td><td>4</td><td>5</td><td>4</td><td>3</td><td>3</td><td>3</td></tr>\n",
       "\t<tr><td>1</td><td>1</td><td>1</td><td>3</td><td>3</td><td>2</td><td>4</td><td>1</td><td>1</td><td>1</td><td>1</td><td>1</td></tr>\n",
       "\t<tr><td>1</td><td>1</td><td>1</td><td>2</td><td>2</td><td>2</td><td>2</td><td>1</td><td>1</td><td>1</td><td>1</td><td>1</td></tr>\n",
       "\t<tr><td>1</td><td>1</td><td>1</td><td>1</td><td>1</td><td>3</td><td>4</td><td>1</td><td>1</td><td>1</td><td>1</td><td>1</td></tr>\n",
       "\t<tr><td>3</td><td>2</td><td>2</td><td>2</td><td>2</td><td>2</td><td>5</td><td>2</td><td>1</td><td>1</td><td>1</td><td>1</td></tr>\n",
       "\t<tr><td>1</td><td>1</td><td>1</td><td>1</td><td>3</td><td>3</td><td>5</td><td>1</td><td>1</td><td>1</td><td>1</td><td>1</td></tr>\n",
       "\t<tr><td>3</td><td>2</td><td>2</td><td>2</td><td>3</td><td>3</td><td>5</td><td>1</td><td>1</td><td>1</td><td>1</td><td>1</td></tr>\n",
       "</tbody>\n",
       "</table>\n"
      ],
      "text/latex": [
       "\\begin{tabular}{r|llllllllllll}\n",
       " Q1 & Q2 & Q3 & Q4 & Q5 & Q6 & Q7 & Q8 & Q9 & Q10 & Q11 & Q12\\\\\n",
       "\\hline\n",
       "\t 3 & 2 & 2 & 1 & 1 & 3 & 5 & 1 & 1 & 1 & 1 & 1\\\\\n",
       "\t 1 & 2 & 2 & 1 & 1 & 3 & 5 & 1 & 1 & 1 & 1 & 1\\\\\n",
       "\t 1 & 2 & 1 & 3 & 2 & 5 & 4 & 4 & 3 & 3 & 1 & 1\\\\\n",
       "\t 4 & 2 & 1 & 2 & 2 & 5 & 4 & 1 & 1 & 3 & 1 & 1\\\\\n",
       "\t 3 & 2 & 1 & 1 & 1 & 5 & 1 & 1 & 1 & 1 & 1 & 1\\\\\n",
       "\t 1 & 2 & 2 & 2 & 4 & 4 & 5 & 4 & 3 & 1 & 1 & 1\\\\\n",
       "\t 1 & 4 & 2 & 3 & 4 & 4 & 4 & 1 & 2 & 2 & 1 & 1\\\\\n",
       "\t 1 & 1 & 1 & 2 & 1 & 5 & 1 & 1 & 1 & 1 & 1 & 1\\\\\n",
       "\t 4 & 2 & 3 & 2 & 3 & 5 & 2 & 1 & 3 & 3 & 1 & 3\\\\\n",
       "\t 1 & 4 & 1 & 2 & 1 & 3 & 4 & 1 & 1 & 3 & 3 & 2\\\\\n",
       "\t 3 & 3 & 1 & 4 & 4 & 5 & 4 & 4 & 3 & 3 & 2 & 2\\\\\n",
       "\t 4 & 2 & 1 & 1 & 2 & 4 & 5 & 1 & 3 & 3 & 1 & 1\\\\\n",
       "\t 1 & 2 & 1 & 1 & 1 & 4 & 4 & 4 & 1 & 2 & 1 & 1\\\\\n",
       "\t 1 & 1 & 1 & 1 & 1 & 3 & 4 & 1 & 1 & 1 & 1 & 1\\\\\n",
       "\t 4 & 4 & 1 & 1 & 4 & 2 & 4 & 5 & 1 & 4 & 4 & 4\\\\\n",
       "\t 3 & 2 & 1 & 2 & 2 & 1 & 5 & 4 & 4 & 4 & 1 & 3\\\\\n",
       "\t 1 & 2 & 1 & 2 & 2 & 2 & 4 & 1 & 1 & 1 & 1 & 1\\\\\n",
       "\t 1 & 1 & 1 & 2 & 2 & 1 & 4 & 1 & 1 & 1 & 1 & 1\\\\\n",
       "\t 3 & 1 & 1 & 1 & 1 & 3 & 3 & 4 & 1 & 4 & 4 & 3\\\\\n",
       "\t 3 & 1 & 1 & 1 & 1 & 3 & 3 & 4 & 1 & 4 & 4 & 3\\\\\n",
       "\t 1 & 2 & 2 & 3 & 2 & 3 & 4 & 1 & 3 & 4 & 3 & 1\\\\\n",
       "\t 1 & 2 & 1 & 2 & 2 & 3 & 4 & 1 & 1 & 4 & 1 & 1\\\\\n",
       "\t 1 & 2 & 4 & 2 & 3 & 3 & 5 & 5 & 3 & 3 & 1 & 1\\\\\n",
       "\t 4 & 4 & 5 & 4 & 4 & 4 & 5 & 5 & 3 & 4 & 2 & 3\\\\\n",
       "\t 1 & 1 & 1 & 1 & 1 & 5 & 5 & 1 & 1 & 1 & 1 & 1\\\\\n",
       "\t 3 & 3 & 1 & 2 & 2 & 5 & 4 & 1 & 1 & 1 & 1 & 1\\\\\n",
       "\t 3 & 3 & 1 & 2 & 2 & 2 & 3 & 4 & 2 & 3 & 4 & 3\\\\\n",
       "\t 3 & 2 & 3 & 2 & 2 & 2 & 4 & 4 & 3 & 4 & 1 & 3\\\\\n",
       "\t 3 & 2 & 3 & 2 & 2 & 2 & 4 & 4 & 3 & 3 & 1 & 3\\\\\n",
       "\t 4 & 4 & 3 & 4 & 3 & 3 & 3 & 5 & 3 & 3 & 3 & 3\\\\\n",
       "\t ... & ... & ... & ... & ... & ... & ... & ... & ... & ... & ... & ...\\\\\n",
       "\t 5 & 4 & 3 & 4 & 4 & 2 & 5 & 5 & 4 & 5 & 3 & 4\\\\\n",
       "\t 3 & 3 & 2 & 3 & 3 & 2 & 3 & 1 & 1 & 1 & 1 & 1\\\\\n",
       "\t 1 & 1 & 1 & 1 & 1 & 1 & 5 & 1 & 1 & 1 & 1 & 1\\\\\n",
       "\t 1 & 1 & 1 & 1 & 1 & 2 & 4 & 1 & 1 & 1 & 1 & 1\\\\\n",
       "\t 1 & 1 & 1 & 1 & 3 & 3 & 5 & 1 & 1 & 1 & 1 & 1\\\\\n",
       "\t 1 & 1 & 1 & 2 & 2 & 3 & 1 & 1 & 1 & 1 & 1 & 1\\\\\n",
       "\t 3 & 2 & 1 & 3 & 3 & 2 & 4 & 1 & 1 & 1 & 1 & 1\\\\\n",
       "\t 1 & 1 & 1 & 1 & 1 & 2 & 5 & 1 & 1 & 1 & 1 & 1\\\\\n",
       "\t 1 & 1 & 1 & 3 & 3 & 3 & 4 & 1 & 1 & 1 & 1 & 1\\\\\n",
       "\t 1 & 1 & 1 & 2 & 2 & 3 & 2 & 1 & 1 & 1 & 1 & 1\\\\\n",
       "\t 4 & 3 & 2 & 4 & 4 & 2 & 5 & 3 & 3 & 4 & 3 & 3\\\\\n",
       "\t 3 & 3 & 3 & 2 & 2 & 3 & 5 & 3 & 1 & 1 & 1 & 1\\\\\n",
       "\t 4 & 2 & 1 & 2 & 3 & 2 & 4 & 4 & 4 & 3 & 1 & 1\\\\\n",
       "\t 1 & 1 & 1 & 1 & 1 & 3 & 5 & 1 & 1 & 1 & 1 & 1\\\\\n",
       "\t 3 & 3 & 2 & 2 & 2 & 2 & 4 & 4 & 3 & 3 & 3 & 3\\\\\n",
       "\t 1 & 1 & 1 & 1 & 1 & 2 & 2 & 1 & 1 & 1 & 1 & 1\\\\\n",
       "\t 1 & 1 & 1 & 1 & 1 & 3 & 4 & 1 & 1 & 1 & 1 & 1\\\\\n",
       "\t 1 & 1 & 1 & 1 & 1 & 1 & 1 & 1 & 1 & 1 & 1 & 1\\\\\n",
       "\t 3 & 3 & 3 & 3 & 3 & 3 & 2 & 3 & 3 & 3 & 3 & 3\\\\\n",
       "\t 2 & 2 & 2 & 1 & 1 & 2 & 4 & 5 & 1 & 1 & 1 & 1\\\\\n",
       "\t 1 & 1 & 1 & 1 & 1 & 3 & 4 & 1 & 1 & 1 & 1 & 1\\\\\n",
       "\t 1 & 1 & 1 & 1 & 1 & 3 & 2 & 1 & 1 & 1 & 1 & 1\\\\\n",
       "\t 1 & 1 & 1 & 1 & 1 & 2 & 5 & 1 & 1 & 1 & 1 & 1\\\\\n",
       "\t 3 & 3 & 2 & 2 & 2 & 2 & 4 & 5 & 4 & 3 & 3 & 3\\\\\n",
       "\t 1 & 1 & 1 & 3 & 3 & 2 & 4 & 1 & 1 & 1 & 1 & 1\\\\\n",
       "\t 1 & 1 & 1 & 2 & 2 & 2 & 2 & 1 & 1 & 1 & 1 & 1\\\\\n",
       "\t 1 & 1 & 1 & 1 & 1 & 3 & 4 & 1 & 1 & 1 & 1 & 1\\\\\n",
       "\t 3 & 2 & 2 & 2 & 2 & 2 & 5 & 2 & 1 & 1 & 1 & 1\\\\\n",
       "\t 1 & 1 & 1 & 1 & 3 & 3 & 5 & 1 & 1 & 1 & 1 & 1\\\\\n",
       "\t 3 & 2 & 2 & 2 & 3 & 3 & 5 & 1 & 1 & 1 & 1 & 1\\\\\n",
       "\\end{tabular}\n"
      ],
      "text/markdown": [
       "\n",
       "| Q1 | Q2 | Q3 | Q4 | Q5 | Q6 | Q7 | Q8 | Q9 | Q10 | Q11 | Q12 |\n",
       "|---|---|---|---|---|---|---|---|---|---|---|---|\n",
       "| 3 | 2 | 2 | 1 | 1 | 3 | 5 | 1 | 1 | 1 | 1 | 1 |\n",
       "| 1 | 2 | 2 | 1 | 1 | 3 | 5 | 1 | 1 | 1 | 1 | 1 |\n",
       "| 1 | 2 | 1 | 3 | 2 | 5 | 4 | 4 | 3 | 3 | 1 | 1 |\n",
       "| 4 | 2 | 1 | 2 | 2 | 5 | 4 | 1 | 1 | 3 | 1 | 1 |\n",
       "| 3 | 2 | 1 | 1 | 1 | 5 | 1 | 1 | 1 | 1 | 1 | 1 |\n",
       "| 1 | 2 | 2 | 2 | 4 | 4 | 5 | 4 | 3 | 1 | 1 | 1 |\n",
       "| 1 | 4 | 2 | 3 | 4 | 4 | 4 | 1 | 2 | 2 | 1 | 1 |\n",
       "| 1 | 1 | 1 | 2 | 1 | 5 | 1 | 1 | 1 | 1 | 1 | 1 |\n",
       "| 4 | 2 | 3 | 2 | 3 | 5 | 2 | 1 | 3 | 3 | 1 | 3 |\n",
       "| 1 | 4 | 1 | 2 | 1 | 3 | 4 | 1 | 1 | 3 | 3 | 2 |\n",
       "| 3 | 3 | 1 | 4 | 4 | 5 | 4 | 4 | 3 | 3 | 2 | 2 |\n",
       "| 4 | 2 | 1 | 1 | 2 | 4 | 5 | 1 | 3 | 3 | 1 | 1 |\n",
       "| 1 | 2 | 1 | 1 | 1 | 4 | 4 | 4 | 1 | 2 | 1 | 1 |\n",
       "| 1 | 1 | 1 | 1 | 1 | 3 | 4 | 1 | 1 | 1 | 1 | 1 |\n",
       "| 4 | 4 | 1 | 1 | 4 | 2 | 4 | 5 | 1 | 4 | 4 | 4 |\n",
       "| 3 | 2 | 1 | 2 | 2 | 1 | 5 | 4 | 4 | 4 | 1 | 3 |\n",
       "| 1 | 2 | 1 | 2 | 2 | 2 | 4 | 1 | 1 | 1 | 1 | 1 |\n",
       "| 1 | 1 | 1 | 2 | 2 | 1 | 4 | 1 | 1 | 1 | 1 | 1 |\n",
       "| 3 | 1 | 1 | 1 | 1 | 3 | 3 | 4 | 1 | 4 | 4 | 3 |\n",
       "| 3 | 1 | 1 | 1 | 1 | 3 | 3 | 4 | 1 | 4 | 4 | 3 |\n",
       "| 1 | 2 | 2 | 3 | 2 | 3 | 4 | 1 | 3 | 4 | 3 | 1 |\n",
       "| 1 | 2 | 1 | 2 | 2 | 3 | 4 | 1 | 1 | 4 | 1 | 1 |\n",
       "| 1 | 2 | 4 | 2 | 3 | 3 | 5 | 5 | 3 | 3 | 1 | 1 |\n",
       "| 4 | 4 | 5 | 4 | 4 | 4 | 5 | 5 | 3 | 4 | 2 | 3 |\n",
       "| 1 | 1 | 1 | 1 | 1 | 5 | 5 | 1 | 1 | 1 | 1 | 1 |\n",
       "| 3 | 3 | 1 | 2 | 2 | 5 | 4 | 1 | 1 | 1 | 1 | 1 |\n",
       "| 3 | 3 | 1 | 2 | 2 | 2 | 3 | 4 | 2 | 3 | 4 | 3 |\n",
       "| 3 | 2 | 3 | 2 | 2 | 2 | 4 | 4 | 3 | 4 | 1 | 3 |\n",
       "| 3 | 2 | 3 | 2 | 2 | 2 | 4 | 4 | 3 | 3 | 1 | 3 |\n",
       "| 4 | 4 | 3 | 4 | 3 | 3 | 3 | 5 | 3 | 3 | 3 | 3 |\n",
       "| ... | ... | ... | ... | ... | ... | ... | ... | ... | ... | ... | ... |\n",
       "| 5 | 4 | 3 | 4 | 4 | 2 | 5 | 5 | 4 | 5 | 3 | 4 |\n",
       "| 3 | 3 | 2 | 3 | 3 | 2 | 3 | 1 | 1 | 1 | 1 | 1 |\n",
       "| 1 | 1 | 1 | 1 | 1 | 1 | 5 | 1 | 1 | 1 | 1 | 1 |\n",
       "| 1 | 1 | 1 | 1 | 1 | 2 | 4 | 1 | 1 | 1 | 1 | 1 |\n",
       "| 1 | 1 | 1 | 1 | 3 | 3 | 5 | 1 | 1 | 1 | 1 | 1 |\n",
       "| 1 | 1 | 1 | 2 | 2 | 3 | 1 | 1 | 1 | 1 | 1 | 1 |\n",
       "| 3 | 2 | 1 | 3 | 3 | 2 | 4 | 1 | 1 | 1 | 1 | 1 |\n",
       "| 1 | 1 | 1 | 1 | 1 | 2 | 5 | 1 | 1 | 1 | 1 | 1 |\n",
       "| 1 | 1 | 1 | 3 | 3 | 3 | 4 | 1 | 1 | 1 | 1 | 1 |\n",
       "| 1 | 1 | 1 | 2 | 2 | 3 | 2 | 1 | 1 | 1 | 1 | 1 |\n",
       "| 4 | 3 | 2 | 4 | 4 | 2 | 5 | 3 | 3 | 4 | 3 | 3 |\n",
       "| 3 | 3 | 3 | 2 | 2 | 3 | 5 | 3 | 1 | 1 | 1 | 1 |\n",
       "| 4 | 2 | 1 | 2 | 3 | 2 | 4 | 4 | 4 | 3 | 1 | 1 |\n",
       "| 1 | 1 | 1 | 1 | 1 | 3 | 5 | 1 | 1 | 1 | 1 | 1 |\n",
       "| 3 | 3 | 2 | 2 | 2 | 2 | 4 | 4 | 3 | 3 | 3 | 3 |\n",
       "| 1 | 1 | 1 | 1 | 1 | 2 | 2 | 1 | 1 | 1 | 1 | 1 |\n",
       "| 1 | 1 | 1 | 1 | 1 | 3 | 4 | 1 | 1 | 1 | 1 | 1 |\n",
       "| 1 | 1 | 1 | 1 | 1 | 1 | 1 | 1 | 1 | 1 | 1 | 1 |\n",
       "| 3 | 3 | 3 | 3 | 3 | 3 | 2 | 3 | 3 | 3 | 3 | 3 |\n",
       "| 2 | 2 | 2 | 1 | 1 | 2 | 4 | 5 | 1 | 1 | 1 | 1 |\n",
       "| 1 | 1 | 1 | 1 | 1 | 3 | 4 | 1 | 1 | 1 | 1 | 1 |\n",
       "| 1 | 1 | 1 | 1 | 1 | 3 | 2 | 1 | 1 | 1 | 1 | 1 |\n",
       "| 1 | 1 | 1 | 1 | 1 | 2 | 5 | 1 | 1 | 1 | 1 | 1 |\n",
       "| 3 | 3 | 2 | 2 | 2 | 2 | 4 | 5 | 4 | 3 | 3 | 3 |\n",
       "| 1 | 1 | 1 | 3 | 3 | 2 | 4 | 1 | 1 | 1 | 1 | 1 |\n",
       "| 1 | 1 | 1 | 2 | 2 | 2 | 2 | 1 | 1 | 1 | 1 | 1 |\n",
       "| 1 | 1 | 1 | 1 | 1 | 3 | 4 | 1 | 1 | 1 | 1 | 1 |\n",
       "| 3 | 2 | 2 | 2 | 2 | 2 | 5 | 2 | 1 | 1 | 1 | 1 |\n",
       "| 1 | 1 | 1 | 1 | 3 | 3 | 5 | 1 | 1 | 1 | 1 | 1 |\n",
       "| 3 | 2 | 2 | 2 | 3 | 3 | 5 | 1 | 1 | 1 | 1 | 1 |\n",
       "\n"
      ],
      "text/plain": [
       "    Q1  Q2  Q3  Q4  Q5  Q6  Q7  Q8  Q9  Q10 Q11 Q12\n",
       "1   3   2   2   1   1   3   5   1   1   1   1   1  \n",
       "2   1   2   2   1   1   3   5   1   1   1   1   1  \n",
       "3   1   2   1   3   2   5   4   4   3   3   1   1  \n",
       "4   4   2   1   2   2   5   4   1   1   3   1   1  \n",
       "5   3   2   1   1   1   5   1   1   1   1   1   1  \n",
       "6   1   2   2   2   4   4   5   4   3   1   1   1  \n",
       "7   1   4   2   3   4   4   4   1   2   2   1   1  \n",
       "8   1   1   1   2   1   5   1   1   1   1   1   1  \n",
       "9   4   2   3   2   3   5   2   1   3   3   1   3  \n",
       "10  1   4   1   2   1   3   4   1   1   3   3   2  \n",
       "11  3   3   1   4   4   5   4   4   3   3   2   2  \n",
       "12  4   2   1   1   2   4   5   1   3   3   1   1  \n",
       "13  1   2   1   1   1   4   4   4   1   2   1   1  \n",
       "14  1   1   1   1   1   3   4   1   1   1   1   1  \n",
       "15  4   4   1   1   4   2   4   5   1   4   4   4  \n",
       "16  3   2   1   2   2   1   5   4   4   4   1   3  \n",
       "17  1   2   1   2   2   2   4   1   1   1   1   1  \n",
       "18  1   1   1   2   2   1   4   1   1   1   1   1  \n",
       "19  3   1   1   1   1   3   3   4   1   4   4   3  \n",
       "20  3   1   1   1   1   3   3   4   1   4   4   3  \n",
       "21  1   2   2   3   2   3   4   1   3   4   3   1  \n",
       "22  1   2   1   2   2   3   4   1   1   4   1   1  \n",
       "23  1   2   4   2   3   3   5   5   3   3   1   1  \n",
       "24  4   4   5   4   4   4   5   5   3   4   2   3  \n",
       "25  1   1   1   1   1   5   5   1   1   1   1   1  \n",
       "26  3   3   1   2   2   5   4   1   1   1   1   1  \n",
       "27  3   3   1   2   2   2   3   4   2   3   4   3  \n",
       "28  3   2   3   2   2   2   4   4   3   4   1   3  \n",
       "29  3   2   3   2   2   2   4   4   3   3   1   3  \n",
       "30  4   4   3   4   3   3   3   5   3   3   3   3  \n",
       "... ... ... ... ... ... ... ... ... ... ... ... ...\n",
       "471 5   4   3   4   4   2   5   5   4   5   3   4  \n",
       "472 3   3   2   3   3   2   3   1   1   1   1   1  \n",
       "473 1   1   1   1   1   1   5   1   1   1   1   1  \n",
       "474 1   1   1   1   1   2   4   1   1   1   1   1  \n",
       "475 1   1   1   1   3   3   5   1   1   1   1   1  \n",
       "476 1   1   1   2   2   3   1   1   1   1   1   1  \n",
       "477 3   2   1   3   3   2   4   1   1   1   1   1  \n",
       "478 1   1   1   1   1   2   5   1   1   1   1   1  \n",
       "479 1   1   1   3   3   3   4   1   1   1   1   1  \n",
       "480 1   1   1   2   2   3   2   1   1   1   1   1  \n",
       "481 4   3   2   4   4   2   5   3   3   4   3   3  \n",
       "482 3   3   3   2   2   3   5   3   1   1   1   1  \n",
       "483 4   2   1   2   3   2   4   4   4   3   1   1  \n",
       "484 1   1   1   1   1   3   5   1   1   1   1   1  \n",
       "485 3   3   2   2   2   2   4   4   3   3   3   3  \n",
       "486 1   1   1   1   1   2   2   1   1   1   1   1  \n",
       "487 1   1   1   1   1   3   4   1   1   1   1   1  \n",
       "488 1   1   1   1   1   1   1   1   1   1   1   1  \n",
       "489 3   3   3   3   3   3   2   3   3   3   3   3  \n",
       "490 2   2   2   1   1   2   4   5   1   1   1   1  \n",
       "491 1   1   1   1   1   3   4   1   1   1   1   1  \n",
       "492 1   1   1   1   1   3   2   1   1   1   1   1  \n",
       "493 1   1   1   1   1   2   5   1   1   1   1   1  \n",
       "494 3   3   2   2   2   2   4   5   4   3   3   3  \n",
       "495 1   1   1   3   3   2   4   1   1   1   1   1  \n",
       "496 1   1   1   2   2   2   2   1   1   1   1   1  \n",
       "497 1   1   1   1   1   3   4   1   1   1   1   1  \n",
       "498 3   2   2   2   2   2   5   2   1   1   1   1  \n",
       "499 1   1   1   1   3   3   5   1   1   1   1   1  \n",
       "500 3   2   2   2   3   3   5   1   1   1   1   1  "
      ]
     },
     "metadata": {},
     "output_type": "display_data"
    }
   ],
   "source": [
    "# Data Survey"
   ]
  },
  {
   "cell_type": "markdown",
   "metadata": {},
   "source": [
    "**Keterangan :**\n",
    "* Q1  = Seberapa sering anda menggunakan bahasa pemrograman?\n",
    "* Q2  = Seberapa tahukah anda tentang bahasa permograman Java?\n",
    "* Q3  = Pernahkah anda membuat program menggunakan bahasa pemrograman Python?\n",
    "* Q4  = Seberapa tahukah anda tentang Pemrograman Interface (API)\n",
    "* Q5  = Seberapa tahukah anda tentang Pemrograman Berorientasi Objek (OOP)?\n",
    "* Q6  = Seberapa sering anda menggunakan programming software bajakan?\n",
    "* Q7  = Seberapa perlunya dokumen manual/tutorial ketika membuat program?\n",
    "* Q8  = Pernakah anda melakukan trial dan error atau mengembangkan program yang dibuat orang lain?\n",
    "* Q9  = Seberapa seringkah anda menggunakan Extension saat membuat program?\n",
    "* Q10 = Seberapa sering anda mengelola (menginstal,menghapus,menonaktifkan instalasi) Extension anda?\n",
    "* Q11 = Apakah anda sering menggunakan Extension berbayar?\n",
    "* Q12 = Apakah anda sering menggunakan Auto Indent Extension?"
   ]
  },
  {
   "cell_type": "code",
   "execution_count": 100,
   "metadata": {},
   "outputs": [
    {
     "data": {
      "text/plain": [
       "Importance of components:\n",
       "                          Comp.1     Comp.2     Comp.3    Comp.4     Comp.5\n",
       "Standard deviation     2.3027754 1.05404899 1.01734109 0.9770315 0.87358679\n",
       "Proportion of Variance 0.4418979 0.09258494 0.08624857 0.0795492 0.06359616\n",
       "Cumulative Proportion  0.4418979 0.53448282 0.62073140 0.7002806 0.76387676\n",
       "                           Comp.6     Comp.7     Comp.8     Comp.9    Comp.10\n",
       "Standard deviation     0.79997583 0.70684351 0.68625143 0.64094413 0.56288905\n",
       "Proportion of Variance 0.05333011 0.04163565 0.03924509 0.03423411 0.02640367\n",
       "Cumulative Proportion  0.81720687 0.85884252 0.89808760 0.93232172 0.95872539\n",
       "                          Comp.11   Comp.12\n",
       "Standard deviation     0.52382791 0.4699996\n",
       "Proportion of Variance 0.02286631 0.0184083\n",
       "Cumulative Proportion  0.98159170 1.0000000"
      ]
     },
     "metadata": {},
     "output_type": "display_data"
    }
   ],
   "source": [
    "summary(data.pca)"
   ]
  },
  {
   "cell_type": "markdown",
   "metadata": {},
   "source": [
    "**Output di atas diberikan nilai standard deviation dan proportion of variance untuk setiap komponen utama. Pada cumulative proportion terlihat apabila kita menggunakan Q1 dan Q2 maka dapat menjelaskan 53.44% dari data dan begitu seterusnya.**"
   ]
  },
  {
   "cell_type": "code",
   "execution_count": 101,
   "metadata": {},
   "outputs": [
    {
     "data": {
      "text/plain": [
       "\n",
       "Loadings:\n",
       "    Comp.1 Comp.2 Comp.3 Comp.4 Comp.5 Comp.6 Comp.7 Comp.8 Comp.9 Comp.10\n",
       "Q1   0.272                       0.681  0.499  0.229         0.384        \n",
       "Q2   0.316 -0.203        -0.143  0.383        -0.129 -0.254 -0.775        \n",
       "Q3   0.282 -0.270 -0.122 -0.174 -0.358  0.507 -0.252  0.543 -0.109 -0.209 \n",
       "Q4   0.323 -0.343        -0.270        -0.287 -0.104 -0.116  0.310        \n",
       "Q5   0.319 -0.388  0.116 -0.212        -0.290        -0.138  0.288 -0.190 \n",
       "Q6          0.360  0.785 -0.393 -0.209  0.198                             \n",
       "Q7   0.133 -0.209  0.498  0.751               -0.336                      \n",
       "Q8   0.294        -0.110  0.288 -0.405  0.346  0.393 -0.575        -0.178 \n",
       "Q9   0.361                      -0.137 -0.219  0.366  0.313 -0.133  0.278 \n",
       "Q10  0.322  0.352         0.140        -0.340  0.284  0.345 -0.119 -0.387 \n",
       "Q11  0.289  0.492 -0.147                      -0.563 -0.211  0.127 -0.379 \n",
       "Q12  0.343  0.262 -0.239        -0.146        -0.219                0.703 \n",
       "    Comp.11 Comp.12\n",
       "Q1                 \n",
       "Q2                 \n",
       "Q3                 \n",
       "Q4  -0.684   0.142 \n",
       "Q5   0.641  -0.215 \n",
       "Q6                 \n",
       "Q7                 \n",
       "Q8  -0.131         \n",
       "Q9   0.179   0.653 \n",
       "Q10 -0.229  -0.459 \n",
       "Q11  0.112   0.335 \n",
       "Q12         -0.422 \n",
       "\n",
       "               Comp.1 Comp.2 Comp.3 Comp.4 Comp.5 Comp.6 Comp.7 Comp.8 Comp.9\n",
       "SS loadings     1.000  1.000  1.000  1.000  1.000  1.000  1.000  1.000  1.000\n",
       "Proportion Var  0.083  0.083  0.083  0.083  0.083  0.083  0.083  0.083  0.083\n",
       "Cumulative Var  0.083  0.167  0.250  0.333  0.417  0.500  0.583  0.667  0.750\n",
       "               Comp.10 Comp.11 Comp.12\n",
       "SS loadings      1.000   1.000   1.000\n",
       "Proportion Var   0.083   0.083   0.083\n",
       "Cumulative Var   0.833   0.917   1.000"
      ]
     },
     "metadata": {},
     "output_type": "display_data"
    }
   ],
   "source": [
    "loadings(data.pca)"
   ]
  },
  {
   "cell_type": "code",
   "execution_count": 102,
   "metadata": {},
   "outputs": [
    {
     "data": {
      "text/html": [
       "<table>\n",
       "<thead><tr><th scope=col>Comp.1</th><th scope=col>Comp.2</th><th scope=col>Comp.3</th><th scope=col>Comp.4</th><th scope=col>Comp.5</th><th scope=col>Comp.6</th><th scope=col>Comp.7</th><th scope=col>Comp.8</th><th scope=col>Comp.9</th><th scope=col>Comp.10</th><th scope=col>Comp.11</th><th scope=col>Comp.12</th></tr></thead>\n",
       "<tbody>\n",
       "\t<tr><td>-1.48786064 </td><td>-0.20239173 </td><td>1.0324338   </td><td> 0.4663744  </td><td> 0.53731656 </td><td> 1.4229273  </td><td>-0.5870831  </td><td> 0.5978651  </td><td>-0.104006636</td><td> 0.21583355 </td><td> 0.11144883 </td><td> 0.03037906 </td></tr>\n",
       "\t<tr><td>-1.93975400 </td><td>-0.28460622 </td><td>1.0091683   </td><td> 0.4620263  </td><td>-0.59378664 </td><td> 0.5944462  </td><td>-0.9675994  </td><td> 0.4731216  </td><td>-0.741663770</td><td> 0.14228327 </td><td> 0.06452992 </td><td>-0.03890472 </td></tr>\n",
       "\t<tr><td> 0.36283810 </td><td> 0.43089053 </td><td>2.0573627   </td><td>-0.2765585  </td><td>-1.64466304 </td><td>-0.4912482  </td><td> 1.4200888  </td><td>-0.7762388  </td><td>-0.339668259</td><td>-0.11713264 </td><td>-1.00921757 </td><td> 0.36552785 </td></tr>\n",
       "\t<tr><td>-0.49984354 </td><td> 0.74028802 </td><td>2.2899699   </td><td>-0.8079909  </td><td> 1.17958712 </td><td> 0.6072799  </td><td> 0.6286291  </td><td> 0.2969356  </td><td> 0.599191712</td><td>-0.13469448 </td><td>-0.28545422 </td><td>-0.67888114 </td></tr>\n",
       "\t<tr><td>-2.13111152 </td><td> 1.30237093 </td><td>0.8438378   </td><td>-2.3714856  </td><td> 0.48870539 </td><td> 1.2680985  </td><td> 0.8195110  </td><td>-0.2624924  </td><td>-0.223243376</td><td> 0.38663927 </td><td> 0.11985243 </td><td> 0.06095957 </td></tr>\n",
       "\t<tr><td> 0.45433756 </td><td>-1.18678200 </td><td>1.7442044   </td><td> 0.1332420  </td><td>-2.05399984 </td><td> 0.1474651  </td><td> 0.6463639  </td><td>-0.8119192  </td><td> 0.008153527</td><td>-0.14914410 </td><td> 1.08270722 </td><td> 0.54263512 </td></tr>\n",
       "\t<tr><td> 0.54639874 </td><td>-1.51558568 </td><td>1.8696856   </td><td>-1.5876886  </td><td>-0.29269900 </td><td>-0.9535235  </td><td>-0.3672640  </td><td>-0.1533538  </td><td>-1.092549354</td><td>-0.15564968 </td><td> 0.42337707 </td><td>-0.22574009 </td></tr>\n",
       "\t<tr><td>-2.56601015 </td><td> 1.08021912 </td><td>0.8383608   </td><td>-2.5012922  </td><td>-1.00003008 </td><td> 0.1522038  </td><td> 0.4586294  </td><td>-0.2647996  </td><td> 0.145403326</td><td> 0.34415089 </td><td>-0.59522621 </td><td> 0.15384786 </td></tr>\n",
       "\t<tr><td> 1.33830434 </td><td> 0.83349803 </td><td>0.8771517   </td><td>-2.3321088  </td><td>-0.09920532 </td><td> 1.0110027  </td><td> 0.9114004  </td><td> 1.5419829  </td><td> 0.487220310</td><td> 0.96349360 </td><td> 0.61517775 </td><td>-0.69885159 </td></tr>\n",
       "\t<tr><td>-0.04598345 </td><td> 1.19770674 </td><td>0.5159629   </td><td>-0.3045575  </td><td> 0.51514740 </td><td>-0.7967942  </td><td>-1.6396253  </td><td>-0.6032898  </td><td>-1.671980542</td><td>-0.21188320 </td><td>-0.61313141 </td><td>-0.37787633 </td></tr>\n",
       "\t<tr><td> 2.56406785 </td><td> 0.05133178 </td><td>2.0674707   </td><td>-1.0408632  </td><td>-0.37739463 </td><td>-0.4822615  </td><td> 0.9683194  </td><td>-1.4777549  </td><td> 0.583783071</td><td> 0.04258734 </td><td>-0.31498936 </td><td> 0.10052204 </td></tr>\n",
       "\t<tr><td>-0.14948393 </td><td> 0.74757980 </td><td>1.9264645   </td><td> 0.5130354  </td><td> 1.14919495 </td><td> 0.3627732  </td><td> 1.0014808  </td><td> 1.0130295  </td><td> 0.154355739</td><td> 0.20579935 </td><td> 0.65380724 </td><td> 0.24587168 </td></tr>\n",
       "</tbody>\n",
       "</table>\n"
      ],
      "text/latex": [
       "\\begin{tabular}{llllllllllll}\n",
       " Comp.1 & Comp.2 & Comp.3 & Comp.4 & Comp.5 & Comp.6 & Comp.7 & Comp.8 & Comp.9 & Comp.10 & Comp.11 & Comp.12\\\\\n",
       "\\hline\n",
       "\t -1.48786064  & -0.20239173  & 1.0324338    &  0.4663744   &  0.53731656  &  1.4229273   & -0.5870831   &  0.5978651   & -0.104006636 &  0.21583355  &  0.11144883  &  0.03037906 \\\\\n",
       "\t -1.93975400  & -0.28460622  & 1.0091683    &  0.4620263   & -0.59378664  &  0.5944462   & -0.9675994   &  0.4731216   & -0.741663770 &  0.14228327  &  0.06452992  & -0.03890472 \\\\\n",
       "\t  0.36283810  &  0.43089053  & 2.0573627    & -0.2765585   & -1.64466304  & -0.4912482   &  1.4200888   & -0.7762388   & -0.339668259 & -0.11713264  & -1.00921757  &  0.36552785 \\\\\n",
       "\t -0.49984354  &  0.74028802  & 2.2899699    & -0.8079909   &  1.17958712  &  0.6072799   &  0.6286291   &  0.2969356   &  0.599191712 & -0.13469448  & -0.28545422  & -0.67888114 \\\\\n",
       "\t -2.13111152  &  1.30237093  & 0.8438378    & -2.3714856   &  0.48870539  &  1.2680985   &  0.8195110   & -0.2624924   & -0.223243376 &  0.38663927  &  0.11985243  &  0.06095957 \\\\\n",
       "\t  0.45433756  & -1.18678200  & 1.7442044    &  0.1332420   & -2.05399984  &  0.1474651   &  0.6463639   & -0.8119192   &  0.008153527 & -0.14914410  &  1.08270722  &  0.54263512 \\\\\n",
       "\t  0.54639874  & -1.51558568  & 1.8696856    & -1.5876886   & -0.29269900  & -0.9535235   & -0.3672640   & -0.1533538   & -1.092549354 & -0.15564968  &  0.42337707  & -0.22574009 \\\\\n",
       "\t -2.56601015  &  1.08021912  & 0.8383608    & -2.5012922   & -1.00003008  &  0.1522038   &  0.4586294   & -0.2647996   &  0.145403326 &  0.34415089  & -0.59522621  &  0.15384786 \\\\\n",
       "\t  1.33830434  &  0.83349803  & 0.8771517    & -2.3321088   & -0.09920532  &  1.0110027   &  0.9114004   &  1.5419829   &  0.487220310 &  0.96349360  &  0.61517775  & -0.69885159 \\\\\n",
       "\t -0.04598345  &  1.19770674  & 0.5159629    & -0.3045575   &  0.51514740  & -0.7967942   & -1.6396253   & -0.6032898   & -1.671980542 & -0.21188320  & -0.61313141  & -0.37787633 \\\\\n",
       "\t  2.56406785  &  0.05133178  & 2.0674707    & -1.0408632   & -0.37739463  & -0.4822615   &  0.9683194   & -1.4777549   &  0.583783071 &  0.04258734  & -0.31498936  &  0.10052204 \\\\\n",
       "\t -0.14948393  &  0.74757980  & 1.9264645    &  0.5130354   &  1.14919495  &  0.3627732   &  1.0014808   &  1.0130295   &  0.154355739 &  0.20579935  &  0.65380724  &  0.24587168 \\\\\n",
       "\\end{tabular}\n"
      ],
      "text/markdown": [
       "\n",
       "| Comp.1 | Comp.2 | Comp.3 | Comp.4 | Comp.5 | Comp.6 | Comp.7 | Comp.8 | Comp.9 | Comp.10 | Comp.11 | Comp.12 |\n",
       "|---|---|---|---|---|---|---|---|---|---|---|---|\n",
       "| -1.48786064  | -0.20239173  | 1.0324338    |  0.4663744   |  0.53731656  |  1.4229273   | -0.5870831   |  0.5978651   | -0.104006636 |  0.21583355  |  0.11144883  |  0.03037906  |\n",
       "| -1.93975400  | -0.28460622  | 1.0091683    |  0.4620263   | -0.59378664  |  0.5944462   | -0.9675994   |  0.4731216   | -0.741663770 |  0.14228327  |  0.06452992  | -0.03890472  |\n",
       "|  0.36283810  |  0.43089053  | 2.0573627    | -0.2765585   | -1.64466304  | -0.4912482   |  1.4200888   | -0.7762388   | -0.339668259 | -0.11713264  | -1.00921757  |  0.36552785  |\n",
       "| -0.49984354  |  0.74028802  | 2.2899699    | -0.8079909   |  1.17958712  |  0.6072799   |  0.6286291   |  0.2969356   |  0.599191712 | -0.13469448  | -0.28545422  | -0.67888114  |\n",
       "| -2.13111152  |  1.30237093  | 0.8438378    | -2.3714856   |  0.48870539  |  1.2680985   |  0.8195110   | -0.2624924   | -0.223243376 |  0.38663927  |  0.11985243  |  0.06095957  |\n",
       "|  0.45433756  | -1.18678200  | 1.7442044    |  0.1332420   | -2.05399984  |  0.1474651   |  0.6463639   | -0.8119192   |  0.008153527 | -0.14914410  |  1.08270722  |  0.54263512  |\n",
       "|  0.54639874  | -1.51558568  | 1.8696856    | -1.5876886   | -0.29269900  | -0.9535235   | -0.3672640   | -0.1533538   | -1.092549354 | -0.15564968  |  0.42337707  | -0.22574009  |\n",
       "| -2.56601015  |  1.08021912  | 0.8383608    | -2.5012922   | -1.00003008  |  0.1522038   |  0.4586294   | -0.2647996   |  0.145403326 |  0.34415089  | -0.59522621  |  0.15384786  |\n",
       "|  1.33830434  |  0.83349803  | 0.8771517    | -2.3321088   | -0.09920532  |  1.0110027   |  0.9114004   |  1.5419829   |  0.487220310 |  0.96349360  |  0.61517775  | -0.69885159  |\n",
       "| -0.04598345  |  1.19770674  | 0.5159629    | -0.3045575   |  0.51514740  | -0.7967942   | -1.6396253   | -0.6032898   | -1.671980542 | -0.21188320  | -0.61313141  | -0.37787633  |\n",
       "|  2.56406785  |  0.05133178  | 2.0674707    | -1.0408632   | -0.37739463  | -0.4822615   |  0.9683194   | -1.4777549   |  0.583783071 |  0.04258734  | -0.31498936  |  0.10052204  |\n",
       "| -0.14948393  |  0.74757980  | 1.9264645    |  0.5130354   |  1.14919495  |  0.3627732   |  1.0014808   |  1.0130295   |  0.154355739 |  0.20579935  |  0.65380724  |  0.24587168  |\n",
       "\n"
      ],
      "text/plain": [
       "      Comp.1      Comp.2      Comp.3    Comp.4     Comp.5      Comp.6    \n",
       " [1,] -1.48786064 -0.20239173 1.0324338  0.4663744  0.53731656  1.4229273\n",
       " [2,] -1.93975400 -0.28460622 1.0091683  0.4620263 -0.59378664  0.5944462\n",
       " [3,]  0.36283810  0.43089053 2.0573627 -0.2765585 -1.64466304 -0.4912482\n",
       " [4,] -0.49984354  0.74028802 2.2899699 -0.8079909  1.17958712  0.6072799\n",
       " [5,] -2.13111152  1.30237093 0.8438378 -2.3714856  0.48870539  1.2680985\n",
       " [6,]  0.45433756 -1.18678200 1.7442044  0.1332420 -2.05399984  0.1474651\n",
       " [7,]  0.54639874 -1.51558568 1.8696856 -1.5876886 -0.29269900 -0.9535235\n",
       " [8,] -2.56601015  1.08021912 0.8383608 -2.5012922 -1.00003008  0.1522038\n",
       " [9,]  1.33830434  0.83349803 0.8771517 -2.3321088 -0.09920532  1.0110027\n",
       "[10,] -0.04598345  1.19770674 0.5159629 -0.3045575  0.51514740 -0.7967942\n",
       "[11,]  2.56406785  0.05133178 2.0674707 -1.0408632 -0.37739463 -0.4822615\n",
       "[12,] -0.14948393  0.74757980 1.9264645  0.5130354  1.14919495  0.3627732\n",
       "      Comp.7     Comp.8     Comp.9       Comp.10     Comp.11     Comp.12    \n",
       " [1,] -0.5870831  0.5978651 -0.104006636  0.21583355  0.11144883  0.03037906\n",
       " [2,] -0.9675994  0.4731216 -0.741663770  0.14228327  0.06452992 -0.03890472\n",
       " [3,]  1.4200888 -0.7762388 -0.339668259 -0.11713264 -1.00921757  0.36552785\n",
       " [4,]  0.6286291  0.2969356  0.599191712 -0.13469448 -0.28545422 -0.67888114\n",
       " [5,]  0.8195110 -0.2624924 -0.223243376  0.38663927  0.11985243  0.06095957\n",
       " [6,]  0.6463639 -0.8119192  0.008153527 -0.14914410  1.08270722  0.54263512\n",
       " [7,] -0.3672640 -0.1533538 -1.092549354 -0.15564968  0.42337707 -0.22574009\n",
       " [8,]  0.4586294 -0.2647996  0.145403326  0.34415089 -0.59522621  0.15384786\n",
       " [9,]  0.9114004  1.5419829  0.487220310  0.96349360  0.61517775 -0.69885159\n",
       "[10,] -1.6396253 -0.6032898 -1.671980542 -0.21188320 -0.61313141 -0.37787633\n",
       "[11,]  0.9683194 -1.4777549  0.583783071  0.04258734 -0.31498936  0.10052204\n",
       "[12,]  1.0014808  1.0130295  0.154355739  0.20579935  0.65380724  0.24587168"
      ]
     },
     "metadata": {},
     "output_type": "display_data"
    }
   ],
   "source": [
    "data.pca$scores[1:12,]"
   ]
  },
  {
   "cell_type": "code",
   "execution_count": 106,
   "metadata": {},
   "outputs": [
    {
     "data": {
      "image/png": "[encoded data removed]",
      "text/plain": [
       "Plot with title \"data.pca\""
      ]
     },
     "metadata": {},
     "output_type": "display_data"
    },
    {
     "data": {
      "image/png": "[encoded data removed]",
      "text/plain": [
       "Plot with title \"scree plot\""
      ]
     },
     "metadata": {},
     "output_type": "display_data"
    }
   ],
   "source": [
    "plot(data.pca)\n",
    "screeplot(data.pca, type=\"line\", main=\"scree plot\")"
   ]
  },
  {
   "cell_type": "markdown",
   "metadata": {},
   "source": [
    "**Dari Grafik diatas dapat disimpulkan bahwa Komponen 1 dan Komponen 2 memiliki nilai varian yang tertinggi sehingga Komponen 1 dan Komponen 2 dijadikan alternatif acuan untuk menentukan nilai pca semua komponen**"
   ]
  },
  {
   "cell_type": "code",
   "execution_count": 105,
   "metadata": {},
   "outputs": [
    {
     "data": {
      "image/png": "[encoded data removed]",
      "text/plain": [
       "plot without title"
      ]
     },
     "metadata": {},
     "output_type": "display_data"
    }
   ],
   "source": [
    "biplot(data.pca)"
   ]
  },
  {
   "cell_type": "markdown",
   "metadata": {},
   "source": [
    "**Dari grafik acuan alternatif nilai Komponen 1 (sebagai sumbu x) dan Komponen 2 (sebagai sumbu y) didapatkan**\n",
    "\n",
    "* Q2, Q3, Q4 dan Q5 saling berhubungan satu sama lain\n",
    "* Q1, Q8, dan Q9 saling berhubungan satu sama lain\n",
    "* Q10 dan Q12 saling berhubungan satu sama lain\n",
    "* Q6 tidak berhubungan sama sekali dengan pertanyaan lain\n",
    "* Q10 dan Q11 cukup berhubungan\n",
    "* Q2, Q3, Q4 dan Q5 bertolak belakang dengan Q1, Q8, dan Q9\n",
    "\n",
    "**Keterangan :**\n",
    "* Q1  = Seberapa sering anda menggunakan bahasa pemrograman?\n",
    "* Q2  = Seberapa tahukah anda tentang bahasa permograman Java?\n",
    "* Q3  = Pernahkah anda membuat program menggunakan bahasa pemrograman Python?\n",
    "* Q4  = Seberapa tahukah anda tentang Pemrograman Interface (API)\n",
    "* Q5  = Seberapa tahukah anda tentang Pemrograman Berorientasi Objek (OOP)?\n",
    "* Q6  = Seberapa sering anda menggunakan programming software bajakan?\n",
    "* Q7  = Seberapa perlunya dokumen manual/tutorial ketika membuat program?\n",
    "* Q8  = Pernakah anda melakukan trial dan error atau mengembangkan program yang dibuat orang lain?\n",
    "* Q9  = Seberapa seringkah anda menggunakan Extension saat membuat program?\n",
    "* Q10 = Seberapa sering anda mengelola (menginstal,menghapus,menonaktifkan instalasi) Extension anda?\n",
    "* Q11 = Apakah anda sering menggunakan Extension berbayar?\n",
    "* Q12 = Apakah anda sering menggunakan Auto Indent Extension?\n",
    "\n"
   ]
  },
  {
   "cell_type": "code",
   "execution_count": 19,
   "metadata": {},
   "outputs": [
    {
     "data": {
      "image/jpeg": "[encoded data removed]",
      "text/plain": [
       "<IPython.core.display.Image object>"
      ]
     },
     "execution_count": 19,
     "metadata": {},
     "output_type": "execute_result"
    }
   ],
   "source": [
    "# DATA SCIENCE!!!"
   ]
  },
  {
   "cell_type": "code",
   "execution_count": 22,
   "metadata": {},
   "outputs": [
    {
     "data": {
      "image/jpeg": "[encoded data removed]",
      "text/plain": [
       "<IPython.core.display.Image object>"
      ]
     },
     "execution_count": 22,
     "metadata": {
      "image/jpeg": {
       "width": 1200
      }
     },
     "output_type": "execute_result"
    }
   ],
   "source": [
    "# just joking:)"
   ]
  },
  {
   "cell_type": "markdown",
   "metadata": {},
   "source": [
    "# SO THAT IS IT GUYS!\n",
    "# THANK YOU!"
   ]
  }
 ],
 "metadata": {
  "kernelspec": {
   "display_name": "Python 3",
   "language": "python",
   "name": "python3"
  },
  "language_info": {
   "codemirror_mode": {
    "name": "ipython",
    "version": 3
   },
   "file_extension": ".py",
   "mimetype": "text/x-python",
   "name": "python",
   "nbconvert_exporter": "python",
   "pygments_lexer": "ipython3",
   "version": "3.6.10"
  }
 },
 "nbformat": 4,
 "nbformat_minor": 4
}
